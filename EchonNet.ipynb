{
 "cells": [
  {
   "cell_type": "code",
   "execution_count": 1,
   "id": "34dcccd1-3181-4522-95b9-80d2b40eb2d9",
   "metadata": {},
   "outputs": [
    {
     "name": "stdout",
     "output_type": "stream",
     "text": [
      "✅ PyTorch version: 2.6.0+cu118\n",
      "🚀 CUDA available: True\n",
      "🎯 GPU Device Name: NVIDIA GeForce RTX 3060\n"
     ]
    }
   ],
   "source": [
    "\n",
    "import torch\n",
    "print(\"✅ PyTorch version:\", torch.__version__)\n",
    "print(\"🚀 CUDA available:\", torch.cuda.is_available())\n",
    "if torch.cuda.is_available():\n",
    "    print(\"🎯 GPU Device Name:\", torch.cuda.get_device_name(0))\n"
   ]
  },
  {
   "cell_type": "code",
   "execution_count": 2,
   "id": "6147e7d4-7d6c-430b-bb67-fdcc10a354fc",
   "metadata": {
    "scrolled": true
   },
   "outputs": [
    {
     "name": "stdout",
     "output_type": "stream",
     "text": [
      "\n",
      "📁 File: D:/SingalProject/OFDM Modulation Classification Dataset (1)\\BPSK_8PSK\\-10dB.h5\n",
      "  🔑 Key: BPSK_8PSK-10dB, Shape: (4194304, 1), Dtype: complex64\n",
      "\n",
      "📁 File: D:/SingalProject/OFDM Modulation Classification Dataset (1)\\BPSK_8PSK\\-2dB.h5\n",
      "  🔑 Key: BPSK_8PSK-2dB, Shape: (4194304, 1), Dtype: complex64\n",
      "\n",
      "📁 File: D:/SingalProject/OFDM Modulation Classification Dataset (1)\\BPSK_8PSK\\-4dB.h5\n",
      "  🔑 Key: BPSK_8PSK-4dB, Shape: (4194304, 1), Dtype: complex64\n",
      "\n",
      "📁 File: D:/SingalProject/OFDM Modulation Classification Dataset (1)\\BPSK_8PSK\\-6dB.h5\n",
      "  🔑 Key: BPSK_8PSK-6dB, Shape: (4194304, 1), Dtype: complex64\n",
      "\n",
      "📁 File: D:/SingalProject/OFDM Modulation Classification Dataset (1)\\BPSK_8PSK\\-8dB.h5\n",
      "  🔑 Key: BPSK_8PSK-8dB, Shape: (4194304, 1), Dtype: complex64\n",
      "\n",
      "📁 File: D:/SingalProject/OFDM Modulation Classification Dataset (1)\\BPSK_8PSK\\0dB.h5\n",
      "  🔑 Key: BPSK_8PSK0dB, Shape: (4194304, 1), Dtype: complex64\n",
      "\n",
      "📁 File: D:/SingalProject/OFDM Modulation Classification Dataset (1)\\BPSK_8PSK\\10dB.h5\n",
      "  🔑 Key: BPSK_8PSK10dB, Shape: (4194304, 1), Dtype: complex64\n",
      "\n",
      "📁 File: D:/SingalProject/OFDM Modulation Classification Dataset (1)\\BPSK_8PSK\\12dB.h5\n",
      "  🔑 Key: BPSK_8PSK12dB, Shape: (4194304, 1), Dtype: complex64\n",
      "\n",
      "📁 File: D:/SingalProject/OFDM Modulation Classification Dataset (1)\\BPSK_8PSK\\14dB.h5\n",
      "  🔑 Key: BPSK_8PSK14dB, Shape: (4194304, 1), Dtype: complex64\n",
      "\n",
      "📁 File: D:/SingalProject/OFDM Modulation Classification Dataset (1)\\BPSK_8PSK\\16dB.h5\n",
      "  🔑 Key: BPSK_8PSK16dB, Shape: (4194304, 1), Dtype: complex64\n",
      "\n",
      "📁 File: D:/SingalProject/OFDM Modulation Classification Dataset (1)\\BPSK_8PSK\\18dB.h5\n",
      "  🔑 Key: BPSK_8PSK18dB, Shape: (4194304, 1), Dtype: complex64\n",
      "\n",
      "📁 File: D:/SingalProject/OFDM Modulation Classification Dataset (1)\\BPSK_8PSK\\20dB.h5\n",
      "  🔑 Key: BPSK_8PSK20dB, Shape: (4194304, 1), Dtype: complex64\n",
      "\n",
      "📁 File: D:/SingalProject/OFDM Modulation Classification Dataset (1)\\BPSK_8PSK\\2dB.h5\n",
      "  🔑 Key: BPSK_8PSK2dB, Shape: (4194304, 1), Dtype: complex64\n",
      "\n",
      "📁 File: D:/SingalProject/OFDM Modulation Classification Dataset (1)\\BPSK_8PSK\\4dB.h5\n",
      "  🔑 Key: BPSK_8PSK4dB, Shape: (4194304, 1), Dtype: complex64\n",
      "\n",
      "📁 File: D:/SingalProject/OFDM Modulation Classification Dataset (1)\\BPSK_8PSK\\6dB.h5\n",
      "  🔑 Key: BPSK_8PSK6dB, Shape: (4194304, 1), Dtype: complex64\n",
      "\n",
      "📁 File: D:/SingalProject/OFDM Modulation Classification Dataset (1)\\BPSK_8PSK\\8dB.h5\n",
      "  🔑 Key: BPSK_8PSK8dB, Shape: (4194304, 1), Dtype: complex64\n",
      "\n",
      "📁 File: D:/SingalProject/OFDM Modulation Classification Dataset (1)\\BPSK_BPSK\\-10dB.h5\n",
      "  🔑 Key: BPSK_BPSK-10dB, Shape: (4194304, 1), Dtype: complex64\n",
      "\n",
      "📁 File: D:/SingalProject/OFDM Modulation Classification Dataset (1)\\BPSK_BPSK\\-2dB.h5\n",
      "  🔑 Key: BPSK_BPSK-2dB, Shape: (4194304, 1), Dtype: complex64\n",
      "\n",
      "📁 File: D:/SingalProject/OFDM Modulation Classification Dataset (1)\\BPSK_BPSK\\-4dB.h5\n",
      "  🔑 Key: BPSK_BPSK-4dB, Shape: (4194304, 1), Dtype: complex64\n",
      "\n",
      "📁 File: D:/SingalProject/OFDM Modulation Classification Dataset (1)\\BPSK_BPSK\\-6dB.h5\n",
      "  🔑 Key: BPSK_BPSK-6dB, Shape: (4194304, 1), Dtype: complex64\n",
      "\n",
      "📁 File: D:/SingalProject/OFDM Modulation Classification Dataset (1)\\BPSK_BPSK\\-8dB.h5\n",
      "  🔑 Key: BPSK_BPSK-8dB, Shape: (4194304, 1), Dtype: complex64\n",
      "\n",
      "📁 File: D:/SingalProject/OFDM Modulation Classification Dataset (1)\\BPSK_BPSK\\0dB.h5\n",
      "  🔑 Key: BPSK_BPSK0dB, Shape: (4194304, 1), Dtype: complex64\n",
      "\n",
      "📁 File: D:/SingalProject/OFDM Modulation Classification Dataset (1)\\BPSK_BPSK\\10dB.h5\n",
      "  🔑 Key: BPSK_BPSK10dB, Shape: (4194304, 1), Dtype: complex64\n",
      "\n",
      "📁 File: D:/SingalProject/OFDM Modulation Classification Dataset (1)\\BPSK_BPSK\\12dB.h5\n",
      "  🔑 Key: BPSK_BPSK12dB, Shape: (4194304, 1), Dtype: complex64\n",
      "\n",
      "📁 File: D:/SingalProject/OFDM Modulation Classification Dataset (1)\\BPSK_BPSK\\14dB.h5\n",
      "  🔑 Key: BPSK_BPSK14dB, Shape: (4194304, 1), Dtype: complex64\n",
      "\n",
      "📁 File: D:/SingalProject/OFDM Modulation Classification Dataset (1)\\BPSK_BPSK\\16dB.h5\n",
      "  🔑 Key: BPSK_BPSK16dB, Shape: (4194304, 1), Dtype: complex64\n",
      "\n",
      "📁 File: D:/SingalProject/OFDM Modulation Classification Dataset (1)\\BPSK_BPSK\\18dB.h5\n",
      "  🔑 Key: BPSK_BPSK18dB, Shape: (4194304, 1), Dtype: complex64\n",
      "\n",
      "📁 File: D:/SingalProject/OFDM Modulation Classification Dataset (1)\\BPSK_BPSK\\20dB.h5\n",
      "  🔑 Key: BPSK_BPSK20dB, Shape: (4194304, 1), Dtype: complex64\n",
      "\n",
      "📁 File: D:/SingalProject/OFDM Modulation Classification Dataset (1)\\BPSK_BPSK\\2dB.h5\n",
      "  🔑 Key: BPSK_BPSK2dB, Shape: (4194304, 1), Dtype: complex64\n",
      "\n",
      "📁 File: D:/SingalProject/OFDM Modulation Classification Dataset (1)\\BPSK_BPSK\\4dB.h5\n",
      "  🔑 Key: BPSK_BPSK4dB, Shape: (4194304, 1), Dtype: complex64\n",
      "\n",
      "📁 File: D:/SingalProject/OFDM Modulation Classification Dataset (1)\\BPSK_BPSK\\6dB.h5\n",
      "  🔑 Key: BPSK_BPSK6dB, Shape: (4194304, 1), Dtype: complex64\n",
      "\n",
      "📁 File: D:/SingalProject/OFDM Modulation Classification Dataset (1)\\BPSK_BPSK\\8dB.h5\n",
      "  🔑 Key: BPSK_BPSK8dB, Shape: (4194304, 1), Dtype: complex64\n",
      "\n",
      "📁 File: D:/SingalProject/OFDM Modulation Classification Dataset (1)\\BPSK_QPSK\\-10dB.h5\n",
      "  🔑 Key: BPSK_QPSK-10dB, Shape: (4194304, 1), Dtype: complex64\n",
      "\n",
      "📁 File: D:/SingalProject/OFDM Modulation Classification Dataset (1)\\BPSK_QPSK\\-2dB.h5\n",
      "  🔑 Key: BPSK_QPSK-2dB, Shape: (4194304, 1), Dtype: complex64\n",
      "\n",
      "📁 File: D:/SingalProject/OFDM Modulation Classification Dataset (1)\\BPSK_QPSK\\-4dB.h5\n",
      "  🔑 Key: BPSK_QPSK-4dB, Shape: (4194304, 1), Dtype: complex64\n",
      "\n",
      "📁 File: D:/SingalProject/OFDM Modulation Classification Dataset (1)\\BPSK_QPSK\\-6dB.h5\n",
      "  🔑 Key: BPSK_QPSK-6dB, Shape: (4194304, 1), Dtype: complex64\n",
      "\n",
      "📁 File: D:/SingalProject/OFDM Modulation Classification Dataset (1)\\BPSK_QPSK\\-8dB.h5\n",
      "  🔑 Key: BPSK_QPSK-8dB, Shape: (4194304, 1), Dtype: complex64\n",
      "\n",
      "📁 File: D:/SingalProject/OFDM Modulation Classification Dataset (1)\\BPSK_QPSK\\0dB.h5\n",
      "  🔑 Key: BPSK_QPSK0dB, Shape: (4194304, 1), Dtype: complex64\n",
      "\n",
      "📁 File: D:/SingalProject/OFDM Modulation Classification Dataset (1)\\BPSK_QPSK\\10dB.h5\n",
      "  🔑 Key: BPSK_QPSK10dB, Shape: (4194304, 1), Dtype: complex64\n",
      "\n",
      "📁 File: D:/SingalProject/OFDM Modulation Classification Dataset (1)\\BPSK_QPSK\\12dB.h5\n",
      "  🔑 Key: BPSK_QPSK12dB, Shape: (4194304, 1), Dtype: complex64\n",
      "\n",
      "📁 File: D:/SingalProject/OFDM Modulation Classification Dataset (1)\\BPSK_QPSK\\14dB.h5\n",
      "  🔑 Key: BPSK_QPSK14dB, Shape: (4194304, 1), Dtype: complex64\n",
      "\n",
      "📁 File: D:/SingalProject/OFDM Modulation Classification Dataset (1)\\BPSK_QPSK\\16dB.h5\n",
      "  🔑 Key: BPSK_QPSK16dB, Shape: (4194304, 1), Dtype: complex64\n",
      "\n",
      "📁 File: D:/SingalProject/OFDM Modulation Classification Dataset (1)\\BPSK_QPSK\\18dB.h5\n",
      "  🔑 Key: BPSK_QPSK18dB, Shape: (4194304, 1), Dtype: complex64\n",
      "\n",
      "📁 File: D:/SingalProject/OFDM Modulation Classification Dataset (1)\\BPSK_QPSK\\20dB.h5\n",
      "  🔑 Key: BPSK_QPSK20dB, Shape: (4194304, 1), Dtype: complex64\n",
      "\n",
      "📁 File: D:/SingalProject/OFDM Modulation Classification Dataset (1)\\BPSK_QPSK\\2dB.h5\n",
      "  🔑 Key: BPSK_QPSK2dB, Shape: (4194304, 1), Dtype: complex64\n",
      "\n",
      "📁 File: D:/SingalProject/OFDM Modulation Classification Dataset (1)\\BPSK_QPSK\\4dB.h5\n",
      "  🔑 Key: BPSK_QPSK4dB, Shape: (4194304, 1), Dtype: complex64\n",
      "\n",
      "📁 File: D:/SingalProject/OFDM Modulation Classification Dataset (1)\\BPSK_QPSK\\6dB.h5\n",
      "  🔑 Key: BPSK_QPSK6dB, Shape: (4194304, 1), Dtype: complex64\n",
      "\n",
      "📁 File: D:/SingalProject/OFDM Modulation Classification Dataset (1)\\BPSK_QPSK\\8dB.h5\n",
      "  🔑 Key: BPSK_QPSK8dB, Shape: (4194304, 1), Dtype: complex64\n",
      "\n",
      "📁 File: D:/SingalProject/OFDM Modulation Classification Dataset (1)\\QPSK_8PSK\\-10dB.h5\n",
      "  🔑 Key: QPSK_8PSK-10dB, Shape: (4194304, 1), Dtype: complex64\n",
      "\n",
      "📁 File: D:/SingalProject/OFDM Modulation Classification Dataset (1)\\QPSK_8PSK\\-2dB.h5\n",
      "  🔑 Key: QPSK_8PSK-2dB, Shape: (4194304, 1), Dtype: complex64\n",
      "\n",
      "📁 File: D:/SingalProject/OFDM Modulation Classification Dataset (1)\\QPSK_8PSK\\-4dB.h5\n",
      "  🔑 Key: QPSK_8PSK-4dB, Shape: (4194304, 1), Dtype: complex64\n",
      "\n",
      "📁 File: D:/SingalProject/OFDM Modulation Classification Dataset (1)\\QPSK_8PSK\\-6dB.h5\n",
      "  🔑 Key: QPSK_8PSK-6dB, Shape: (4194304, 1), Dtype: complex64\n",
      "\n",
      "📁 File: D:/SingalProject/OFDM Modulation Classification Dataset (1)\\QPSK_8PSK\\-8dB.h5\n",
      "  🔑 Key: QPSK_8PSK-8dB, Shape: (4194304, 1), Dtype: complex64\n",
      "\n",
      "📁 File: D:/SingalProject/OFDM Modulation Classification Dataset (1)\\QPSK_8PSK\\0dB.h5\n",
      "  🔑 Key: QPSK_8PSK0dB, Shape: (4194304, 1), Dtype: complex64\n",
      "\n",
      "📁 File: D:/SingalProject/OFDM Modulation Classification Dataset (1)\\QPSK_8PSK\\10dB.h5\n",
      "  🔑 Key: QPSK_8PSK10dB, Shape: (4194304, 1), Dtype: complex64\n",
      "\n",
      "📁 File: D:/SingalProject/OFDM Modulation Classification Dataset (1)\\QPSK_8PSK\\12dB.h5\n",
      "  🔑 Key: QPSK_8PSK12dB, Shape: (4194304, 1), Dtype: complex64\n",
      "\n",
      "📁 File: D:/SingalProject/OFDM Modulation Classification Dataset (1)\\QPSK_8PSK\\14dB.h5\n",
      "  🔑 Key: QPSK_8PSK14dB, Shape: (4194304, 1), Dtype: complex64\n",
      "\n",
      "📁 File: D:/SingalProject/OFDM Modulation Classification Dataset (1)\\QPSK_8PSK\\16dB.h5\n",
      "  🔑 Key: QPSK_8PSK16dB, Shape: (4194304, 1), Dtype: complex64\n",
      "\n",
      "📁 File: D:/SingalProject/OFDM Modulation Classification Dataset (1)\\QPSK_8PSK\\18dB.h5\n",
      "  🔑 Key: QPSK_8PSK18dB, Shape: (4194304, 1), Dtype: complex64\n",
      "\n",
      "📁 File: D:/SingalProject/OFDM Modulation Classification Dataset (1)\\QPSK_8PSK\\20dB.h5\n",
      "  🔑 Key: QPSK_8PSK20dB, Shape: (4194304, 1), Dtype: complex64\n",
      "\n",
      "📁 File: D:/SingalProject/OFDM Modulation Classification Dataset (1)\\QPSK_8PSK\\2dB.h5\n",
      "  🔑 Key: QPSK_8PSK2dB, Shape: (4194304, 1), Dtype: complex64\n",
      "\n",
      "📁 File: D:/SingalProject/OFDM Modulation Classification Dataset (1)\\QPSK_8PSK\\4dB.h5\n",
      "  🔑 Key: QPSK_8PSK4dB, Shape: (4194304, 1), Dtype: complex64\n",
      "\n",
      "📁 File: D:/SingalProject/OFDM Modulation Classification Dataset (1)\\QPSK_8PSK\\6dB.h5\n",
      "  🔑 Key: QPSK_8PSK6dB, Shape: (4194304, 1), Dtype: complex64\n",
      "\n",
      "📁 File: D:/SingalProject/OFDM Modulation Classification Dataset (1)\\QPSK_8PSK\\8dB.h5\n",
      "  🔑 Key: QPSK_8PSK8dB, Shape: (4194304, 1), Dtype: complex64\n",
      "\n",
      "📁 File: D:/SingalProject/OFDM Modulation Classification Dataset (1)\\QPSK_BPSK\\-10dB.h5\n",
      "  🔑 Key: QPSK_BPSK-10dB, Shape: (4194304, 1), Dtype: complex64\n",
      "\n",
      "📁 File: D:/SingalProject/OFDM Modulation Classification Dataset (1)\\QPSK_BPSK\\-2dB.h5\n",
      "  🔑 Key: QPSK_BPSK-2dB, Shape: (4194304, 1), Dtype: complex64\n",
      "\n",
      "📁 File: D:/SingalProject/OFDM Modulation Classification Dataset (1)\\QPSK_BPSK\\-4dB.h5\n",
      "  🔑 Key: QPSK_BPSK-4dB, Shape: (4194304, 1), Dtype: complex64\n",
      "\n",
      "📁 File: D:/SingalProject/OFDM Modulation Classification Dataset (1)\\QPSK_BPSK\\-6dB.h5\n",
      "  🔑 Key: QPSK_BPSK-6dB, Shape: (4194304, 1), Dtype: complex64\n",
      "\n",
      "📁 File: D:/SingalProject/OFDM Modulation Classification Dataset (1)\\QPSK_BPSK\\-8dB.h5\n",
      "  🔑 Key: QPSK_BPSK-8dB, Shape: (4194304, 1), Dtype: complex64\n",
      "\n",
      "📁 File: D:/SingalProject/OFDM Modulation Classification Dataset (1)\\QPSK_BPSK\\0dB.h5\n",
      "  🔑 Key: QPSK_BPSK0dB, Shape: (4194304, 1), Dtype: complex64\n",
      "\n",
      "📁 File: D:/SingalProject/OFDM Modulation Classification Dataset (1)\\QPSK_BPSK\\10dB.h5\n",
      "  🔑 Key: QPSK_BPSK10dB, Shape: (4194304, 1), Dtype: complex64\n",
      "\n",
      "📁 File: D:/SingalProject/OFDM Modulation Classification Dataset (1)\\QPSK_BPSK\\12dB.h5\n",
      "  🔑 Key: QPSK_BPSK12dB, Shape: (4194304, 1), Dtype: complex64\n",
      "\n",
      "📁 File: D:/SingalProject/OFDM Modulation Classification Dataset (1)\\QPSK_BPSK\\14dB.h5\n",
      "  🔑 Key: QPSK_BPSK14dB, Shape: (4194304, 1), Dtype: complex64\n",
      "\n",
      "📁 File: D:/SingalProject/OFDM Modulation Classification Dataset (1)\\QPSK_BPSK\\16dB.h5\n",
      "  🔑 Key: QPSK_BPSK16dB, Shape: (4194304, 1), Dtype: complex64\n",
      "\n",
      "📁 File: D:/SingalProject/OFDM Modulation Classification Dataset (1)\\QPSK_BPSK\\18dB.h5\n",
      "  🔑 Key: QPSK_BPSK18dB, Shape: (4194304, 1), Dtype: complex64\n",
      "\n",
      "📁 File: D:/SingalProject/OFDM Modulation Classification Dataset (1)\\QPSK_BPSK\\20dB.h5\n",
      "  🔑 Key: QPSK_BPSK20dB, Shape: (4194304, 1), Dtype: complex64\n",
      "\n",
      "📁 File: D:/SingalProject/OFDM Modulation Classification Dataset (1)\\QPSK_BPSK\\2dB.h5\n",
      "  🔑 Key: QPSK_BPSK2dB, Shape: (4194304, 1), Dtype: complex64\n",
      "\n",
      "📁 File: D:/SingalProject/OFDM Modulation Classification Dataset (1)\\QPSK_BPSK\\4dB.h5\n",
      "  🔑 Key: QPSK_BPSK4dB, Shape: (4194304, 1), Dtype: complex64\n",
      "\n",
      "📁 File: D:/SingalProject/OFDM Modulation Classification Dataset (1)\\QPSK_BPSK\\6dB.h5\n",
      "  🔑 Key: QPSK_BPSK6dB, Shape: (4194304, 1), Dtype: complex64\n",
      "\n",
      "📁 File: D:/SingalProject/OFDM Modulation Classification Dataset (1)\\QPSK_BPSK\\8dB.h5\n",
      "  🔑 Key: QPSK_BPSK8dB, Shape: (4194304, 1), Dtype: complex64\n",
      "\n",
      "📁 File: D:/SingalProject/OFDM Modulation Classification Dataset (1)\\QPSK_QPSK\\-10dB.h5\n",
      "  🔑 Key: QPSK_QPSK-10dB, Shape: (4194304, 1), Dtype: complex64\n",
      "\n",
      "📁 File: D:/SingalProject/OFDM Modulation Classification Dataset (1)\\QPSK_QPSK\\-2dB.h5\n",
      "  🔑 Key: QPSK_QPSK-2dB, Shape: (4194304, 1), Dtype: complex64\n",
      "\n",
      "📁 File: D:/SingalProject/OFDM Modulation Classification Dataset (1)\\QPSK_QPSK\\-4dB.h5\n",
      "  🔑 Key: QPSK_QPSK-4dB, Shape: (4194304, 1), Dtype: complex64\n",
      "\n",
      "📁 File: D:/SingalProject/OFDM Modulation Classification Dataset (1)\\QPSK_QPSK\\-6dB.h5\n",
      "  🔑 Key: QPSK_QPSK-6dB, Shape: (4194304, 1), Dtype: complex64\n",
      "\n",
      "📁 File: D:/SingalProject/OFDM Modulation Classification Dataset (1)\\QPSK_QPSK\\-8dB.h5\n",
      "  🔑 Key: QPSK_QPSK-8dB, Shape: (4194304, 1), Dtype: complex64\n",
      "\n",
      "📁 File: D:/SingalProject/OFDM Modulation Classification Dataset (1)\\QPSK_QPSK\\0dB.h5\n",
      "  🔑 Key: QPSK_QPSK0dB, Shape: (4194304, 1), Dtype: complex64\n",
      "\n",
      "📁 File: D:/SingalProject/OFDM Modulation Classification Dataset (1)\\QPSK_QPSK\\10dB.h5\n",
      "  🔑 Key: QPSK_QPSK10dB, Shape: (4194304, 1), Dtype: complex64\n",
      "\n",
      "📁 File: D:/SingalProject/OFDM Modulation Classification Dataset (1)\\QPSK_QPSK\\12dB.h5\n",
      "  🔑 Key: QPSK_QPSK12dB, Shape: (4194304, 1), Dtype: complex64\n",
      "\n",
      "📁 File: D:/SingalProject/OFDM Modulation Classification Dataset (1)\\QPSK_QPSK\\14dB.h5\n",
      "  🔑 Key: QPSK_QPSK14dB, Shape: (4194304, 1), Dtype: complex64\n",
      "\n",
      "📁 File: D:/SingalProject/OFDM Modulation Classification Dataset (1)\\QPSK_QPSK\\16dB.h5\n",
      "  🔑 Key: QPSK_QPSK16dB, Shape: (4194304, 1), Dtype: complex64\n",
      "\n",
      "📁 File: D:/SingalProject/OFDM Modulation Classification Dataset (1)\\QPSK_QPSK\\18dB.h5\n",
      "  🔑 Key: QPSK_QPSK18dB, Shape: (4194304, 1), Dtype: complex64\n",
      "\n",
      "📁 File: D:/SingalProject/OFDM Modulation Classification Dataset (1)\\QPSK_QPSK\\20dB.h5\n",
      "  🔑 Key: QPSK_QPSK20dB, Shape: (4194304, 1), Dtype: complex64\n",
      "\n",
      "📁 File: D:/SingalProject/OFDM Modulation Classification Dataset (1)\\QPSK_QPSK\\2dB.h5\n",
      "  🔑 Key: QPSK_QPSK2dB, Shape: (4194304, 1), Dtype: complex64\n",
      "\n",
      "📁 File: D:/SingalProject/OFDM Modulation Classification Dataset (1)\\QPSK_QPSK\\4dB.h5\n",
      "  🔑 Key: QPSK_QPSK4dB, Shape: (4194304, 1), Dtype: complex64\n",
      "\n",
      "📁 File: D:/SingalProject/OFDM Modulation Classification Dataset (1)\\QPSK_QPSK\\6dB.h5\n",
      "  🔑 Key: QPSK_QPSK6dB, Shape: (4194304, 1), Dtype: complex64\n",
      "\n",
      "📁 File: D:/SingalProject/OFDM Modulation Classification Dataset (1)\\QPSK_QPSK\\8dB.h5\n",
      "  🔑 Key: QPSK_QPSK8dB, Shape: (4194304, 1), Dtype: complex64\n"
     ]
    }
   ],
   "source": [
    "import h5py\n",
    "import os\n",
    "\n",
    "root_dir = 'D:/SingalProject/OFDM Modulation Classification Dataset (1)'\n",
    "\n",
    "# Walk through all folders and look for .h5 files\n",
    "for subdir, _, files in os.walk(root_dir):\n",
    "    for file in files:\n",
    "        if file.endswith('.h5'):\n",
    "            file_path = os.path.join(subdir, file)\n",
    "            print(f\"\\n📁 File: {file_path}\")\n",
    "            try:\n",
    "                with h5py.File(file_path, 'r') as f:\n",
    "                    for key in f.keys():\n",
    "                        print(f\"  🔑 Key: {key}, Shape: {f[key].shape}, Dtype: {f[key].dtype}\")\n",
    "            except Exception as e:\n",
    "                print(f\"  ⚠️ Error reading file: {e}\")\n"
   ]
  },
  {
   "cell_type": "code",
   "execution_count": 3,
   "id": "521ab563-94b7-4b16-9f5d-420ba900f432",
   "metadata": {},
   "outputs": [],
   "source": [
    "# Label map (customize as needed)\n",
    "MOD_LABELS = {\n",
    "    'BPSK_BPSK': 0,\n",
    "    'BPSK_QPSK': 1,\n",
    "    'BPSK_8PSK': 2,\n",
    "    'QPSK_QPSK': 3,\n",
    "    'QPSK_BPSK': 4,\n",
    "    'QPSK_8PSK': 5,\n",
    "}\n"
   ]
  },
  {
   "cell_type": "code",
   "execution_count": 4,
   "id": "eb1fa9d7-92a5-4eed-ac0a-f8a62eb56900",
   "metadata": {},
   "outputs": [],
   "source": [
    "import os\n",
    "import h5py\n",
    "import torch\n",
    "from torch.utils.data import Dataset\n",
    "import numpy as np\n",
    "\n",
    "class OFDMDataset(Dataset):\n",
    "    def __init__(self, root_dir, segment_length=1024):\n",
    "        self.samples = []\n",
    "        self.segment_length = segment_length\n",
    "        self.label_map = MOD_LABELS\n",
    "\n",
    "        for mod_class in os.listdir(root_dir):\n",
    "            class_path = os.path.join(root_dir, mod_class)\n",
    "            if not os.path.isdir(class_path):\n",
    "                continue\n",
    "\n",
    "            label = self.label_map.get(mod_class)\n",
    "            if label is None:\n",
    "                continue\n",
    "\n",
    "            for file in os.listdir(class_path):\n",
    "                if file.endswith('.h5'):\n",
    "                    file_path = os.path.join(class_path, file)\n",
    "                    try:\n",
    "                        with h5py.File(file_path, 'r') as f:\n",
    "                            key = list(f.keys())[0]\n",
    "                            signal = np.array(f[key])  # shape: (4194304, 1)\n",
    "                            signal = signal.squeeze()  # shape: (4194304,)\n",
    "\n",
    "                            # Slice into fixed-size segments\n",
    "                            num_segments = len(signal) // segment_length\n",
    "                            for i in range(num_segments):\n",
    "                                start = i * segment_length\n",
    "                                segment = signal[start:start+segment_length]\n",
    "                                self.samples.append((segment, label))\n",
    "                    except Exception as e:\n",
    "                        print(f\"Error loading {file_path}: {e}\")\n",
    "\n",
    "    def __len__(self):\n",
    "        return len(self.samples)\n",
    "\n",
    "    def __getitem__(self, idx):\n",
    "        segment, label = self.samples[idx]\n",
    "        # Convert to real-valued [I, Q]\n",
    "        iq = np.stack([segment.real, segment.imag], axis=0)  # shape: [2, segment_length]\n",
    "        return torch.tensor(iq, dtype=torch.float32), torch.tensor(label, dtype=torch.long)\n"
   ]
  },
  {
   "cell_type": "code",
   "execution_count": 5,
   "id": "70a29378-cd2d-4429-9d3b-d65c267c46ca",
   "metadata": {},
   "outputs": [
    {
     "name": "stdout",
     "output_type": "stream",
     "text": [
      "Signal shape: torch.Size([64, 2, 1024])\n",
      "Labels: tensor([5, 0, 4, 3, 0, 3, 2, 0, 2, 1, 4, 2, 0, 0, 3, 2, 5, 4, 3, 3, 1, 0, 1, 4,\n",
      "        5, 1, 0, 1, 3, 1, 2, 1, 2, 4, 1, 4, 0, 4, 3, 4, 5, 5, 2, 0, 2, 5, 0, 4,\n",
      "        3, 3, 1, 2, 1, 4, 4, 2, 1, 1, 4, 1, 4, 1, 0, 5])\n"
     ]
    }
   ],
   "source": [
    "from torch.utils.data import DataLoader\n",
    "\n",
    "dataset = OFDMDataset(\"D:/SingalProject/OFDM Modulation Classification Dataset (1)\")\n",
    "dataloader = DataLoader(dataset, batch_size=64, shuffle=True)\n",
    "\n",
    "# Test one batch\n",
    "for batch in dataloader:\n",
    "    signals, labels = batch\n",
    "    print(\"Signal shape:\", signals.shape)  # [64, 2, 1024]\n",
    "    print(\"Labels:\", labels)\n",
    "    break\n"
   ]
  },
  {
   "cell_type": "markdown",
   "id": "03eb81d9-838a-4390-bfee-fb0616dd2c7b",
   "metadata": {},
   "source": [
    "## 🔍 What We Can Observe:\n",
    "\n",
    "-> The In-phase (I) and Quadrature (Q) components are both centered around zero — ✅ good sign.\n",
    "\n",
    "-> The waveform looks relatively noisy — makes sense since this is probably a low-SNR sample.\n",
    "\n",
    "-> The pattern is still visible — but would likely confuse a traditional FFT-based classifier."
   ]
  },
  {
   "cell_type": "code",
   "execution_count": 6,
   "id": "182b3399-b668-43e7-8d53-7f35f55ab866",
   "metadata": {},
   "outputs": [
    {
     "data": {
      "image/png": "[encoded data removed]",
      "text/plain": [
       "<Figure size 1200x400 with 2 Axes>"
      ]
     },
     "metadata": {},
     "output_type": "display_data"
    }
   ],
   "source": [
    "import matplotlib.pyplot as plt\n",
    "\n",
    "# Grab one example from the dataset\n",
    "sample_iq, sample_label = dataset[0]  # shape: [2, 1024]\n",
    "I = sample_iq[0].numpy()\n",
    "Q = sample_iq[1].numpy()\n",
    "\n",
    "# Plot I and Q signals\n",
    "plt.figure(figsize=(12, 4))\n",
    "\n",
    "plt.subplot(2, 1, 1)\n",
    "plt.plot(I, label='In-phase (I)')\n",
    "plt.title(f'I/Q Time Series - Label: {sample_label.item()}')\n",
    "plt.ylabel('Amplitude')\n",
    "plt.legend()\n",
    "\n",
    "plt.subplot(2, 1, 2)\n",
    "plt.plot(Q, label='Quadrature (Q)', color='orange')\n",
    "plt.xlabel('Time Samples')\n",
    "plt.ylabel('Amplitude')\n",
    "plt.legend()\n",
    "\n",
    "plt.tight_layout()\n",
    "plt.show()\n"
   ]
  },
  {
   "cell_type": "markdown",
   "id": "9e04d13e-86d7-42b6-9250-9ca0333c2c25",
   "metadata": {},
   "source": [
    "## 🧠 Interpretation:\n",
    "\n",
    "-> The horizontal bands reflect the frequency components across time.\n",
    "\n",
    "-> Even with noise, some structure is visible → which deep learning models can latch onto.\n",
    "\n",
    "This format is now CNN-ready ✅\n",
    "Here we have three ways of approaching this problem \n",
    "\n",
    "-> CNN (on spectrograms) — good for time-frequency patterns\n",
    "\n",
    "-> LSTM (on I/Q time series) — good for temporal memory\n",
    "\n",
    "-> Hybrid CNN + LSTM — best of both worlds (CNN for feature extraction → LSTM for temporal context)"
   ]
  },
  {
   "cell_type": "code",
   "execution_count": 7,
   "id": "36611701-70b1-4b2d-a92c-6d336444a2fb",
   "metadata": {},
   "outputs": [
    {
     "name": "stderr",
     "output_type": "stream",
     "text": [
      "C:\\Users\\ASUS\\AppData\\Local\\Temp\\ipykernel_17796\\3515842964.py:12: UserWarning: Input data is complex, switching to return_onesided=False\n",
      "  f, t, Zxx = stft(complex_signal, nperseg=128)\n"
     ]
    },
    {
     "data": {
      "image/png": "[encoded data removed]",
      "text/plain": [
       "<Figure size 800x400 with 2 Axes>"
      ]
     },
     "metadata": {},
     "output_type": "display_data"
    }
   ],
   "source": [
    "from scipy.signal import stft\n",
    "\n",
    "# Use one I/Q segment again\n",
    "segment = dataset[0][0].numpy()  # shape: [2, 1024]\n",
    "I = segment[0]\n",
    "Q = segment[1]\n",
    "\n",
    "# Combine into complex signal\n",
    "complex_signal = I + 1j * Q\n",
    "\n",
    "# Apply Short-Time Fourier Transform\n",
    "f, t, Zxx = stft(complex_signal, nperseg=128)\n",
    "\n",
    "# Get magnitude (in dB) for visualization\n",
    "spectrogram = np.abs(Zxx)\n",
    "\n",
    "# Plot it\n",
    "plt.figure(figsize=(8, 4))\n",
    "plt.pcolormesh(t, f, spectrogram, shading='gouraud')\n",
    "plt.title(f'Spectrogram - Label: {dataset[0][1].item()}')\n",
    "plt.ylabel('Frequency [Hz]')\n",
    "plt.xlabel('Time [s]')\n",
    "plt.colorbar(label='Amplitude')\n",
    "plt.tight_layout()\n",
    "plt.show()\n"
   ]
  },
  {
   "cell_type": "code",
   "execution_count": 8,
   "id": "d7aece51-5d5a-4a54-a23f-c8ba256686d5",
   "metadata": {},
   "outputs": [],
   "source": [
    "from scipy.signal import stft\n",
    "\n",
    "class OFDMSpectrogramDataset(Dataset):\n",
    "    def __init__(self, root_dir, segment_length=1024, nperseg=128):\n",
    "        self.samples = []\n",
    "        self.segment_length = segment_length\n",
    "        self.nperseg = nperseg\n",
    "        self.label_map = MOD_LABELS\n",
    "\n",
    "        for mod_class in os.listdir(root_dir):\n",
    "            class_path = os.path.join(root_dir, mod_class)\n",
    "            if not os.path.isdir(class_path):\n",
    "                continue\n",
    "\n",
    "            label = self.label_map.get(mod_class)\n",
    "            if label is None:\n",
    "                continue\n",
    "\n",
    "            for file in os.listdir(class_path):\n",
    "                if file.endswith('.h5'):\n",
    "                    file_path = os.path.join(class_path, file)\n",
    "                    try:\n",
    "                        with h5py.File(file_path, 'r') as f:\n",
    "                            key = list(f.keys())[0]\n",
    "                            signal = np.array(f[key]).squeeze()\n",
    "\n",
    "                            num_segments = len(signal) // segment_length\n",
    "                            for i in range(num_segments):\n",
    "                                start = i * segment_length\n",
    "                                segment = signal[start:start+segment_length]\n",
    "                                self.samples.append((segment, label))\n",
    "                    except Exception as e:\n",
    "                        print(f\"Error loading {file_path}: {e}\")\n",
    "\n",
    "    def __len__(self):\n",
    "        return len(self.samples)\n",
    "\n",
    "    def __getitem__(self, idx):\n",
    "        segment, label = self.samples[idx]\n",
    "        signal = segment.astype(np.complex64)\n",
    "\n",
    "        # STFT to spectrogram\n",
    "        f, t, Zxx = stft(signal, nperseg=self.nperseg)\n",
    "        spectrogram = np.abs(Zxx).astype(np.float32)  # shape: [freq, time]\n",
    "\n",
    "        # Normalize\n",
    "        spectrogram = (spectrogram - np.min(spectrogram)) / (np.max(spectrogram) - np.min(spectrogram) + 1e-8)\n",
    "\n",
    "        return torch.tensor(spectrogram).unsqueeze(0), torch.tensor(label)  # [1, F, T]\n"
   ]
  },
  {
   "cell_type": "code",
   "execution_count": 9,
   "id": "c47e0d43-8c78-4ac6-b36a-3c54f702b7a2",
   "metadata": {},
   "outputs": [],
   "source": [
    "import torch\n",
    "import torch.nn as nn\n",
    "import torch.nn.functional as F\n",
    "\n",
    "class SpectrogramCNN(nn.Module):\n",
    "    def __init__(self, num_classes=6):\n",
    "        super(SpectrogramCNN, self).__init__()\n",
    "        self.conv1 = nn.Conv2d(1, 16, kernel_size=3, padding=1)\n",
    "        self.conv2 = nn.Conv2d(16, 32, kernel_size=3, padding=1)\n",
    "        self.conv3 = nn.Conv2d(32, 64, kernel_size=3, padding=1)\n",
    "        self.pool = nn.MaxPool2d(2, 2)\n",
    "\n",
    "        self.flattened_size = None  # will be set after a forward pass\n",
    "\n",
    "        self.fc1 = None  # placeholder\n",
    "        self.fc2 = nn.Linear(128, num_classes)  # second FC is fixed\n",
    "\n",
    "    def forward(self, x):\n",
    "        x = self.pool(F.relu(self.conv1(x)))  # → [B, 16, H/2, W/2]\n",
    "        x = self.pool(F.relu(self.conv2(x)))  # → [B, 32, H/4, W/4]\n",
    "        x = self.pool(F.relu(self.conv3(x)))  # → [B, 64, H/8, W/8]\n",
    "\n",
    "        # Dynamically calculate flattened size\n",
    "        if self.flattened_size is None:\n",
    "            self.flattened_size = x.view(x.size(0), -1).size(1)\n",
    "            self.fc1 = nn.Linear(self.flattened_size, 128)\n",
    "            self.fc1.to(x.device)\n",
    "\n",
    "        x = x.view(x.size(0), -1)             # Flatten\n",
    "        x = F.relu(self.fc1(x))               # Now safe\n",
    "        x = self.fc2(x)\n",
    "        return x\n",
    "\n"
   ]
  },
  {
   "cell_type": "code",
   "execution_count": 10,
   "id": "b1d0f91b-9a54-488f-922d-5b3b9733c1c8",
   "metadata": {},
   "outputs": [],
   "source": [
    "from torch.utils.data import DataLoader, random_split\n",
    "\n",
    "# Load full dataset\n",
    "full_dataset = OFDMSpectrogramDataset(\"D:/SingalProject/OFDM Modulation Classification Dataset (1)\")\n",
    "\n",
    "# Split into train (80%) and val (20%)\n",
    "train_size = int(0.8 * len(full_dataset))\n",
    "val_size = len(full_dataset) - train_size\n",
    "train_dataset, val_dataset = random_split(full_dataset, [train_size, val_size])\n",
    "\n",
    "# Create loaders\n",
    "train_loader = DataLoader(train_dataset, batch_size=64, shuffle=True)\n",
    "val_loader = DataLoader(val_dataset, batch_size=64)\n"
   ]
  },
  {
   "cell_type": "code",
   "execution_count": 11,
   "id": "77a5e15e-021c-452d-b1d9-ee81987c82ff",
   "metadata": {},
   "outputs": [],
   "source": [
    "import torch\n",
    "import torch.nn as nn\n",
    "import torch.optim as optim\n",
    "from tqdm import tqdm\n",
    "\n",
    "device = torch.device('cuda' if torch.cuda.is_available() else 'cpu')\n",
    "model = SpectrogramCNN(num_classes=6).to(device)\n",
    "\n",
    "criterion = nn.CrossEntropyLoss()\n",
    "optimizer = optim.Adam(model.parameters(), lr=0.001)\n"
   ]
  },
  {
   "cell_type": "code",
   "execution_count": 12,
   "id": "d097bd55-9f27-4535-87fe-c8f4ebd56ded",
   "metadata": {},
   "outputs": [],
   "source": [
    "def train_model(model, train_loader, val_loader, epochs=10):\n",
    "    for epoch in range(epochs):\n",
    "        model.train()\n",
    "        train_loss, train_correct = 0.0, 0\n",
    "\n",
    "        for inputs, labels in tqdm(train_loader, desc=f\"Epoch {epoch+1}/{epochs} - Training\"):\n",
    "            inputs, labels = inputs.to(device), labels.to(device)\n",
    "\n",
    "            optimizer.zero_grad()\n",
    "            outputs = model(inputs)\n",
    "            loss = criterion(outputs, labels)\n",
    "            loss.backward()\n",
    "            optimizer.step()\n",
    "\n",
    "            train_loss += loss.item()\n",
    "            train_correct += (outputs.argmax(1) == labels).sum().item()\n",
    "\n",
    "        # Validation\n",
    "        model.eval()\n",
    "        val_correct, val_total = 0, 0\n",
    "        with torch.no_grad():\n",
    "            for inputs, labels in val_loader:\n",
    "                inputs, labels = inputs.to(device), labels.to(device)\n",
    "                outputs = model(inputs)\n",
    "                val_correct += (outputs.argmax(1) == labels).sum().item()\n",
    "                val_total += labels.size(0)\n",
    "\n",
    "        print(f\"Epoch {epoch+1}: \"\n",
    "              f\"Train Acc = {train_correct/len(train_loader.dataset):.4f}, \"\n",
    "              f\"Val Acc = {val_correct/val_total:.4f}\")\n"
   ]
  },
  {
   "cell_type": "code",
   "execution_count": 17,
   "id": "4a496a39-fbce-4d5a-ae7b-da8147b311da",
   "metadata": {},
   "outputs": [
    {
     "name": "stderr",
     "output_type": "stream",
     "text": [
      "Epoch 1/10 - Training:   0%|                                                                                | 0/4916 [00:00<?, ?it/s]C:\\Users\\ASUS\\AppData\\Local\\Temp\\ipykernel_8728\\1314719809.py:43: UserWarning: Input data is complex, switching to return_onesided=False\n",
      "  f, t, Zxx = stft(signal, nperseg=self.nperseg)\n",
      "Epoch 1/10 - Training: 100%|█████████████████████████████████████████████████████████████████████| 4916/4916 [02:25<00:00, 33.77it/s]\n"
     ]
    },
    {
     "name": "stdout",
     "output_type": "stream",
     "text": [
      "Epoch 1: Train Acc = 0.5988, Val Acc = 0.7283\n"
     ]
    },
    {
     "name": "stderr",
     "output_type": "stream",
     "text": [
      "Epoch 2/10 - Training: 100%|█████████████████████████████████████████████████████████████████████| 4916/4916 [02:36<00:00, 31.37it/s]\n"
     ]
    },
    {
     "name": "stdout",
     "output_type": "stream",
     "text": [
      "Epoch 2: Train Acc = 0.7786, Val Acc = 0.8043\n"
     ]
    },
    {
     "name": "stderr",
     "output_type": "stream",
     "text": [
      "Epoch 3/10 - Training: 100%|█████████████████████████████████████████████████████████████████████| 4916/4916 [02:40<00:00, 30.61it/s]\n"
     ]
    },
    {
     "name": "stdout",
     "output_type": "stream",
     "text": [
      "Epoch 3: Train Acc = 0.8090, Val Acc = 0.8188\n"
     ]
    },
    {
     "name": "stderr",
     "output_type": "stream",
     "text": [
      "Epoch 4/10 - Training: 100%|█████████████████████████████████████████████████████████████████████| 4916/4916 [02:22<00:00, 34.40it/s]\n"
     ]
    },
    {
     "name": "stdout",
     "output_type": "stream",
     "text": [
      "Epoch 4: Train Acc = 0.8218, Val Acc = 0.8224\n"
     ]
    },
    {
     "name": "stderr",
     "output_type": "stream",
     "text": [
      "Epoch 5/10 - Training: 100%|█████████████████████████████████████████████████████████████████████| 4916/4916 [02:09<00:00, 37.90it/s]\n"
     ]
    },
    {
     "name": "stdout",
     "output_type": "stream",
     "text": [
      "Epoch 5: Train Acc = 0.8288, Val Acc = 0.8283\n"
     ]
    },
    {
     "name": "stderr",
     "output_type": "stream",
     "text": [
      "Epoch 6/10 - Training: 100%|█████████████████████████████████████████████████████████████████████| 4916/4916 [02:08<00:00, 38.33it/s]\n"
     ]
    },
    {
     "name": "stdout",
     "output_type": "stream",
     "text": [
      "Epoch 6: Train Acc = 0.8341, Val Acc = 0.8328\n"
     ]
    },
    {
     "name": "stderr",
     "output_type": "stream",
     "text": [
      "Epoch 7/10 - Training: 100%|█████████████████████████████████████████████████████████████████████| 4916/4916 [02:13<00:00, 36.74it/s]\n"
     ]
    },
    {
     "name": "stdout",
     "output_type": "stream",
     "text": [
      "Epoch 7: Train Acc = 0.8382, Val Acc = 0.8311\n"
     ]
    },
    {
     "name": "stderr",
     "output_type": "stream",
     "text": [
      "Epoch 8/10 - Training: 100%|█████████████████████████████████████████████████████████████████████| 4916/4916 [02:31<00:00, 32.41it/s]\n"
     ]
    },
    {
     "name": "stdout",
     "output_type": "stream",
     "text": [
      "Epoch 8: Train Acc = 0.8409, Val Acc = 0.8358\n"
     ]
    },
    {
     "name": "stderr",
     "output_type": "stream",
     "text": [
      "Epoch 9/10 - Training: 100%|█████████████████████████████████████████████████████████████████████| 4916/4916 [02:31<00:00, 32.54it/s]\n"
     ]
    },
    {
     "name": "stdout",
     "output_type": "stream",
     "text": [
      "Epoch 9: Train Acc = 0.8437, Val Acc = 0.8352\n"
     ]
    },
    {
     "name": "stderr",
     "output_type": "stream",
     "text": [
      "Epoch 10/10 - Training: 100%|████████████████████████████████████████████████████████████████████| 4916/4916 [02:26<00:00, 33.62it/s]\n"
     ]
    },
    {
     "name": "stdout",
     "output_type": "stream",
     "text": [
      "Epoch 10: Train Acc = 0.8463, Val Acc = 0.8362\n"
     ]
    }
   ],
   "source": [
    "train_model(model, train_loader, val_loader, epochs=10)\n"
   ]
  },
  {
   "cell_type": "code",
   "execution_count": 18,
   "id": "c888d029-b056-49da-9d9a-63b4503bebe5",
   "metadata": {},
   "outputs": [],
   "source": [
    "torch.save(model.state_dict(), \"spectrogram_cnn.pth\")\n"
   ]
  },
  {
   "cell_type": "code",
   "execution_count": 13,
   "id": "310fbb62-42ac-4a9f-bee4-5ffbd64a72fe",
   "metadata": {},
   "outputs": [],
   "source": [
    "import torch.nn as nn\n",
    "import torch.nn.functional as F\n",
    "\n",
    "class SpectrogramCNN(nn.Module):\n",
    "    def __init__(self, num_classes=6):\n",
    "        super(SpectrogramCNN, self).__init__()\n",
    "\n",
    "        self.conv1 = nn.Sequential(\n",
    "            nn.Conv2d(1, 16, kernel_size=3, padding=1),\n",
    "            nn.BatchNorm2d(16),\n",
    "            nn.ReLU(),\n",
    "            nn.MaxPool2d(2),\n",
    "            nn.Dropout(0.25)\n",
    "        )\n",
    "\n",
    "        self.conv2 = nn.Sequential(\n",
    "            nn.Conv2d(16, 32, kernel_size=3, padding=1),\n",
    "            nn.BatchNorm2d(32),\n",
    "            nn.ReLU(),\n",
    "            nn.MaxPool2d(2),\n",
    "            nn.Dropout(0.25)\n",
    "        )\n",
    "\n",
    "        self.conv3 = nn.Sequential(\n",
    "            nn.Conv2d(32, 64, kernel_size=3, padding=1),\n",
    "            nn.BatchNorm2d(64),\n",
    "            nn.ReLU(),\n",
    "            nn.MaxPool2d(2),\n",
    "            nn.Dropout(0.25)\n",
    "        )\n",
    "\n",
    "        self.flattened_size = None\n",
    "        self.fc1 = None\n",
    "        self.fc2 = nn.Linear(128, num_classes)\n",
    "\n",
    "    def forward(self, x):\n",
    "        x = self.conv1(x)\n",
    "        x = self.conv2(x)\n",
    "        x = self.conv3(x)\n",
    "\n",
    "        if self.flattened_size is None:\n",
    "            self.flattened_size = x.view(x.size(0), -1).size(1)\n",
    "            self.fc1 = nn.Linear(self.flattened_size, 128).to(x.device)\n",
    "\n",
    "        x = x.view(x.size(0), -1)\n",
    "        x = F.relu(self.fc1(x))\n",
    "        x = self.fc2(x)\n",
    "        return x\n"
   ]
  },
  {
   "cell_type": "code",
   "execution_count": 21,
   "id": "478c29f0-0b98-4c1a-aa24-34db79ff4092",
   "metadata": {},
   "outputs": [
    {
     "name": "stderr",
     "output_type": "stream",
     "text": [
      "Epoch 1/10 - Training:   0%|                                                                                | 0/4916 [00:00<?, ?it/s]C:\\Users\\ASUS\\AppData\\Local\\Temp\\ipykernel_8728\\1314719809.py:43: UserWarning: Input data is complex, switching to return_onesided=False\n",
      "  f, t, Zxx = stft(signal, nperseg=self.nperseg)\n",
      "Epoch 1/10 - Training: 100%|█████████████████████████████████████████████████████████████████████| 4916/4916 [02:18<00:00, 35.39it/s]\n"
     ]
    },
    {
     "name": "stdout",
     "output_type": "stream",
     "text": [
      "Epoch 1: Train Acc = 0.8475, Val Acc = 0.8412\n"
     ]
    },
    {
     "name": "stderr",
     "output_type": "stream",
     "text": [
      "Epoch 2/10 - Training: 100%|█████████████████████████████████████████████████████████████████████| 4916/4916 [02:13<00:00, 36.82it/s]\n"
     ]
    },
    {
     "name": "stdout",
     "output_type": "stream",
     "text": [
      "Epoch 2: Train Acc = 0.8494, Val Acc = 0.8396\n"
     ]
    },
    {
     "name": "stderr",
     "output_type": "stream",
     "text": [
      "Epoch 3/10 - Training: 100%|█████████████████████████████████████████████████████████████████████| 4916/4916 [02:15<00:00, 36.19it/s]\n"
     ]
    },
    {
     "name": "stdout",
     "output_type": "stream",
     "text": [
      "Epoch 3: Train Acc = 0.8507, Val Acc = 0.8406\n"
     ]
    },
    {
     "name": "stderr",
     "output_type": "stream",
     "text": [
      "Epoch 4/10 - Training: 100%|█████████████████████████████████████████████████████████████████████| 4916/4916 [02:38<00:00, 31.02it/s]\n"
     ]
    },
    {
     "name": "stdout",
     "output_type": "stream",
     "text": [
      "Epoch 4: Train Acc = 0.8518, Val Acc = 0.8438\n"
     ]
    },
    {
     "name": "stderr",
     "output_type": "stream",
     "text": [
      "Epoch 5/10 - Training: 100%|█████████████████████████████████████████████████████████████████████| 4916/4916 [02:28<00:00, 33.00it/s]\n"
     ]
    },
    {
     "name": "stdout",
     "output_type": "stream",
     "text": [
      "Epoch 5: Train Acc = 0.8531, Val Acc = 0.8438\n"
     ]
    },
    {
     "name": "stderr",
     "output_type": "stream",
     "text": [
      "Epoch 6/10 - Training: 100%|█████████████████████████████████████████████████████████████████████| 4916/4916 [02:09<00:00, 37.90it/s]\n"
     ]
    },
    {
     "name": "stdout",
     "output_type": "stream",
     "text": [
      "Epoch 6: Train Acc = 0.8540, Val Acc = 0.8430\n"
     ]
    },
    {
     "name": "stderr",
     "output_type": "stream",
     "text": [
      "Epoch 7/10 - Training: 100%|█████████████████████████████████████████████████████████████████████| 4916/4916 [02:21<00:00, 34.80it/s]\n"
     ]
    },
    {
     "name": "stdout",
     "output_type": "stream",
     "text": [
      "Epoch 7: Train Acc = 0.8548, Val Acc = 0.8427\n"
     ]
    },
    {
     "name": "stderr",
     "output_type": "stream",
     "text": [
      "Epoch 8/10 - Training: 100%|█████████████████████████████████████████████████████████████████████| 4916/4916 [01:14<00:00, 66.02it/s]\n"
     ]
    },
    {
     "name": "stdout",
     "output_type": "stream",
     "text": [
      "Epoch 8: Train Acc = 0.8558, Val Acc = 0.8416\n"
     ]
    },
    {
     "name": "stderr",
     "output_type": "stream",
     "text": [
      "Epoch 9/10 - Training: 100%|█████████████████████████████████████████████████████████████████████| 4916/4916 [00:58<00:00, 84.63it/s]\n"
     ]
    },
    {
     "name": "stdout",
     "output_type": "stream",
     "text": [
      "Epoch 9: Train Acc = 0.8565, Val Acc = 0.8412\n"
     ]
    },
    {
     "name": "stderr",
     "output_type": "stream",
     "text": [
      "Epoch 10/10 - Training: 100%|████████████████████████████████████████████████████████████████████| 4916/4916 [00:53<00:00, 91.23it/s]\n"
     ]
    },
    {
     "name": "stdout",
     "output_type": "stream",
     "text": [
      "Epoch 10: Train Acc = 0.8577, Val Acc = 0.8438\n"
     ]
    }
   ],
   "source": [
    "train_model(model, train_loader, val_loader, epochs=10)"
   ]
  },
  {
   "cell_type": "code",
   "execution_count": 22,
   "id": "2f999d7b-40fa-4a15-a432-fd6ab8e09f27",
   "metadata": {},
   "outputs": [],
   "source": [
    "torch.save(model.state_dict(), \"spectrogram_cnn_bn_dropout.pth\")\n"
   ]
  },
  {
   "cell_type": "code",
   "execution_count": null,
   "id": "3ba047ee-1f4a-4a2d-8b36-f1cec2428853",
   "metadata": {},
   "outputs": [],
   "source": []
  },
  {
   "cell_type": "code",
   "execution_count": null,
   "id": "1a4b67c1-6560-4261-974e-769c523f6a2f",
   "metadata": {},
   "outputs": [],
   "source": []
  },
  {
   "cell_type": "code",
   "execution_count": null,
   "id": "9360de6b-1d9e-4b0f-a363-9bc38fbd4c36",
   "metadata": {},
   "outputs": [],
   "source": []
  },
  {
   "cell_type": "code",
   "execution_count": 14,
   "id": "16d84353-9d1c-4ea4-9b2a-e12a73dbfc4e",
   "metadata": {},
   "outputs": [],
   "source": [
    "class OFDMIQSequenceDataset(Dataset):\n",
    "    def __init__(self, root_dir, segment_length=1024):\n",
    "        self.samples = []\n",
    "        self.segment_length = segment_length\n",
    "        self.label_map = MOD_LABELS\n",
    "\n",
    "        for mod_class in os.listdir(root_dir):\n",
    "            class_path = os.path.join(root_dir, mod_class)\n",
    "            if not os.path.isdir(class_path):\n",
    "                continue\n",
    "\n",
    "            label = self.label_map.get(mod_class)\n",
    "            if label is None:\n",
    "                continue\n",
    "\n",
    "            for file in os.listdir(class_path):\n",
    "                if file.endswith('.h5'):\n",
    "                    file_path = os.path.join(class_path, file)\n",
    "                    try:\n",
    "                        with h5py.File(file_path, 'r') as f:\n",
    "                            key = list(f.keys())[0]\n",
    "                            signal = np.array(f[key]).squeeze()\n",
    "\n",
    "                            num_segments = len(signal) // segment_length\n",
    "                            for i in range(num_segments):\n",
    "                                start = i * segment_length\n",
    "                                segment = signal[start:start+segment_length]\n",
    "                                self.samples.append((segment, label))\n",
    "                    except Exception as e:\n",
    "                        print(f\"Error loading {file_path}: {e}\")\n",
    "\n",
    "    def __len__(self):\n",
    "        return len(self.samples)\n",
    "\n",
    "    def __getitem__(self, idx):\n",
    "        segment, label = self.samples[idx]\n",
    "        I = segment.real\n",
    "        Q = segment.imag\n",
    "        iq_sequence = np.stack([I, Q], axis=1)  # [1024, 2]\n",
    "        return torch.tensor(iq_sequence, dtype=torch.float32), torch.tensor(label, dtype=torch.long)\n"
   ]
  },
  {
   "cell_type": "code",
   "execution_count": 15,
   "id": "fed5faec-a2d2-430c-8864-890c341504fa",
   "metadata": {},
   "outputs": [],
   "source": [
    "class LSTMClassifier(nn.Module):\n",
    "    def __init__(self, input_size=2, hidden_size=64, num_layers=2, num_classes=6):\n",
    "        super(LSTMClassifier, self).__init__()\n",
    "        self.lstm = nn.LSTM(input_size, hidden_size, num_layers, batch_first=True, bidirectional=True)\n",
    "        self.fc = nn.Linear(hidden_size * 2, num_classes)\n",
    "\n",
    "    def forward(self, x):\n",
    "        # x: [B, 1024, 2]\n",
    "        out, _ = self.lstm(x)  # out: [B, 1024, hidden*2]\n",
    "        out = out[:, -1, :]    # Take output from last time step: [B, hidden*2]\n",
    "        out = self.fc(out)     # [B, num_classes]\n",
    "        return out\n"
   ]
  },
  {
   "cell_type": "code",
   "execution_count": 16,
   "id": "661ac78e-4dc5-4570-96fb-c60a559ec8ed",
   "metadata": {},
   "outputs": [],
   "source": [
    "# Load dataset\n",
    "iq_dataset = OFDMIQSequenceDataset(\"D:/SingalProject/OFDM Modulation Classification Dataset (1)\")\n",
    "train_size = int(0.8 * len(iq_dataset))\n",
    "val_size = len(iq_dataset) - train_size\n",
    "train_dataset, val_dataset = random_split(iq_dataset, [train_size, val_size])\n",
    "\n",
    "train_loader = DataLoader(train_dataset, batch_size=64, shuffle=True)\n",
    "val_loader = DataLoader(val_dataset, batch_size=64)\n",
    "\n",
    "# Model, loss, optimizer\n",
    "device = torch.device(\"cuda\" if torch.cuda.is_available() else \"cpu\")\n",
    "model = LSTMClassifier().to(device)\n",
    "criterion = nn.CrossEntropyLoss()\n",
    "optimizer = torch.optim.Adam(model.parameters(), lr=0.001)\n"
   ]
  },
  {
   "cell_type": "code",
   "execution_count": 17,
   "id": "901d2ab6-9176-4dd9-b1f2-02f29713dc57",
   "metadata": {},
   "outputs": [],
   "source": [
    "def train_model(model, train_loader, val_loader, epochs=10):\n",
    "    for epoch in range(epochs):\n",
    "        model.train()\n",
    "        train_correct = 0\n",
    "\n",
    "        for inputs, labels in tqdm(train_loader, desc=f\"Epoch {epoch+1}/{epochs} - Training\"):\n",
    "            inputs, labels = inputs.to(device), labels.to(device)\n",
    "            optimizer.zero_grad()\n",
    "            outputs = model(inputs)\n",
    "            loss = criterion(outputs, labels)\n",
    "            loss.backward()\n",
    "            optimizer.step()\n",
    "\n",
    "            train_correct += (outputs.argmax(1) == labels).sum().item()\n",
    "\n",
    "        # Validation\n",
    "        model.eval()\n",
    "        val_correct, val_total = 0, 0\n",
    "        with torch.no_grad():\n",
    "            for inputs, labels in val_loader:\n",
    "                inputs, labels = inputs.to(device), labels.to(device)\n",
    "                outputs = model(inputs)\n",
    "                val_correct += (outputs.argmax(1) == labels).sum().item()\n",
    "                val_total += labels.size(0)\n",
    "\n",
    "        print(f\"Epoch {epoch+1}: Train Acc = {train_correct/len(train_loader.dataset):.4f}, \"\n",
    "              f\"Val Acc = {val_correct/val_total:.4f}\")\n"
   ]
  },
  {
   "cell_type": "code",
   "execution_count": 27,
   "id": "6d259f3d-240f-4f20-837e-ce08ff1d8a96",
   "metadata": {},
   "outputs": [
    {
     "name": "stderr",
     "output_type": "stream",
     "text": [
      "Epoch 1/10 - Training: 100%|█████████████████████████████████████████████████████████████████████| 4916/4916 [01:38<00:00, 49.79it/s]\n"
     ]
    },
    {
     "name": "stdout",
     "output_type": "stream",
     "text": [
      "Epoch 1: Train Acc = 0.1747, Val Acc = 0.1815\n"
     ]
    },
    {
     "name": "stderr",
     "output_type": "stream",
     "text": [
      "Epoch 2/10 - Training: 100%|█████████████████████████████████████████████████████████████████████| 4916/4916 [01:42<00:00, 47.92it/s]\n"
     ]
    },
    {
     "name": "stdout",
     "output_type": "stream",
     "text": [
      "Epoch 2: Train Acc = 0.1754, Val Acc = 0.1653\n"
     ]
    },
    {
     "name": "stderr",
     "output_type": "stream",
     "text": [
      "Epoch 3/10 - Training: 100%|█████████████████████████████████████████████████████████████████████| 4916/4916 [01:36<00:00, 50.95it/s]\n"
     ]
    },
    {
     "name": "stdout",
     "output_type": "stream",
     "text": [
      "Epoch 3: Train Acc = 0.1682, Val Acc = 0.1718\n"
     ]
    },
    {
     "name": "stderr",
     "output_type": "stream",
     "text": [
      "Epoch 4/10 - Training: 100%|█████████████████████████████████████████████████████████████████████| 4916/4916 [01:38<00:00, 49.81it/s]\n"
     ]
    },
    {
     "name": "stdout",
     "output_type": "stream",
     "text": [
      "Epoch 4: Train Acc = 0.1705, Val Acc = 0.1672\n"
     ]
    },
    {
     "name": "stderr",
     "output_type": "stream",
     "text": [
      "Epoch 5/10 - Training: 100%|█████████████████████████████████████████████████████████████████████| 4916/4916 [01:35<00:00, 51.45it/s]\n"
     ]
    },
    {
     "name": "stdout",
     "output_type": "stream",
     "text": [
      "Epoch 5: Train Acc = 0.1733, Val Acc = 0.1781\n"
     ]
    },
    {
     "name": "stderr",
     "output_type": "stream",
     "text": [
      "Epoch 6/10 - Training: 100%|█████████████████████████████████████████████████████████████████████| 4916/4916 [01:35<00:00, 51.36it/s]\n"
     ]
    },
    {
     "name": "stdout",
     "output_type": "stream",
     "text": [
      "Epoch 6: Train Acc = 0.2151, Val Acc = 0.2866\n"
     ]
    },
    {
     "name": "stderr",
     "output_type": "stream",
     "text": [
      "Epoch 7/10 - Training: 100%|█████████████████████████████████████████████████████████████████████| 4916/4916 [01:35<00:00, 51.48it/s]\n"
     ]
    },
    {
     "name": "stdout",
     "output_type": "stream",
     "text": [
      "Epoch 7: Train Acc = 0.4577, Val Acc = 0.6503\n"
     ]
    },
    {
     "name": "stderr",
     "output_type": "stream",
     "text": [
      "Epoch 8/10 - Training: 100%|█████████████████████████████████████████████████████████████████████| 4916/4916 [01:35<00:00, 51.52it/s]\n"
     ]
    },
    {
     "name": "stdout",
     "output_type": "stream",
     "text": [
      "Epoch 8: Train Acc = 0.6447, Val Acc = 0.6838\n"
     ]
    },
    {
     "name": "stderr",
     "output_type": "stream",
     "text": [
      "Epoch 9/10 - Training: 100%|█████████████████████████████████████████████████████████████████████| 4916/4916 [01:35<00:00, 51.40it/s]\n"
     ]
    },
    {
     "name": "stdout",
     "output_type": "stream",
     "text": [
      "Epoch 9: Train Acc = 0.6281, Val Acc = 0.6883\n"
     ]
    },
    {
     "name": "stderr",
     "output_type": "stream",
     "text": [
      "Epoch 10/10 - Training: 100%|████████████████████████████████████████████████████████████████████| 4916/4916 [01:39<00:00, 49.39it/s]\n"
     ]
    },
    {
     "name": "stdout",
     "output_type": "stream",
     "text": [
      "Epoch 10: Train Acc = 0.6936, Val Acc = 0.7156\n"
     ]
    }
   ],
   "source": [
    "train_model(model, train_loader, val_loader, epochs=10)\n"
   ]
  },
  {
   "cell_type": "code",
   "execution_count": 18,
   "id": "71869744-7b93-427e-98eb-34606e43ed37",
   "metadata": {},
   "outputs": [],
   "source": [
    "import torch\n",
    "import torch.nn as nn\n",
    "import torch.nn.functional as F\n",
    "\n",
    "class ImprovedLSTMClassifier(nn.Module):\n",
    "    def __init__(self, input_size=4, hidden_size=128, num_layers=3, num_classes=6, dropout=0.3):\n",
    "        super(ImprovedLSTMClassifier, self).__init__()\n",
    "        self.lstm = nn.LSTM(\n",
    "            input_size=input_size,\n",
    "            hidden_size=hidden_size,\n",
    "            num_layers=num_layers,\n",
    "            batch_first=True,\n",
    "            bidirectional=True,\n",
    "            dropout=dropout\n",
    "        )\n",
    "        self.dropout = nn.Dropout(dropout)\n",
    "        self.fc = nn.Linear(hidden_size * 2, num_classes)\n",
    "\n",
    "    def forward(self, x):\n",
    "        out, _ = self.lstm(x)\n",
    "        out = out[:, -1, :]  # Last time step\n",
    "        out = self.dropout(out)\n",
    "        out = self.fc(out)\n",
    "        return out\n"
   ]
  },
  {
   "cell_type": "code",
   "execution_count": 19,
   "id": "4869e205-1385-42e4-a30d-2db38ad295ff",
   "metadata": {},
   "outputs": [],
   "source": [
    "class OFDMIQWithMagPhaseDataset(Dataset):\n",
    "    def __init__(self, root_dir, segment_length=1024):\n",
    "        self.samples = []\n",
    "        self.segment_length = segment_length\n",
    "        self.label_map = MOD_LABELS\n",
    "\n",
    "        for mod_class in os.listdir(root_dir):\n",
    "            class_path = os.path.join(root_dir, mod_class)\n",
    "            if not os.path.isdir(class_path):\n",
    "                continue\n",
    "\n",
    "            label = self.label_map.get(mod_class)\n",
    "            if label is None:\n",
    "                continue\n",
    "\n",
    "            for file in os.listdir(class_path):\n",
    "                if file.endswith('.h5'):\n",
    "                    file_path = os.path.join(class_path, file)\n",
    "                    try:\n",
    "                        with h5py.File(file_path, 'r') as f:\n",
    "                            key = list(f.keys())[0]\n",
    "                            signal = np.array(f[key]).squeeze()\n",
    "\n",
    "                            num_segments = len(signal) // segment_length\n",
    "                            for i in range(num_segments):\n",
    "                                start = i * segment_length\n",
    "                                segment = signal[start:start+segment_length]\n",
    "                                self.samples.append((segment, label))\n",
    "                    except Exception as e:\n",
    "                        print(f\"Error loading {file_path}: {e}\")\n",
    "\n",
    "    def __len__(self):\n",
    "        return len(self.samples)\n",
    "\n",
    "    def __getitem__(self, idx):\n",
    "        segment, label = self.samples[idx]\n",
    "        I = segment.real\n",
    "        Q = segment.imag\n",
    "        mag = np.abs(segment)\n",
    "        phase = np.angle(segment)\n",
    "        features = np.stack([I, Q, mag, phase], axis=1)  # shape [1024, 4]\n",
    "        return torch.tensor(features, dtype=torch.float32), torch.tensor(label, dtype=torch.long)\n"
   ]
  },
  {
   "cell_type": "code",
   "execution_count": 20,
   "id": "ec20fc90-5967-4ad8-b602-42c578953e8a",
   "metadata": {},
   "outputs": [],
   "source": [
    "class OFDMIQWithMagPhaseDataset(Dataset):\n",
    "    def __init__(self, root_dir, segment_length=1024):\n",
    "        self.samples = []\n",
    "        self.segment_length = segment_length\n",
    "        self.label_map = MOD_LABELS\n",
    "\n",
    "        for mod_class in os.listdir(root_dir):\n",
    "            class_path = os.path.join(root_dir, mod_class)\n",
    "            if not os.path.isdir(class_path):\n",
    "                continue\n",
    "\n",
    "            label = self.label_map.get(mod_class)\n",
    "            if label is None:\n",
    "                continue\n",
    "\n",
    "            for file in os.listdir(class_path):\n",
    "                if file.endswith('.h5'):\n",
    "                    file_path = os.path.join(class_path, file)\n",
    "                    try:\n",
    "                        with h5py.File(file_path, 'r') as f:\n",
    "                            key = list(f.keys())[0]\n",
    "                            signal = np.array(f[key]).squeeze()\n",
    "\n",
    "                            num_segments = len(signal) // segment_length\n",
    "                            for i in range(num_segments):\n",
    "                                start = i * segment_length\n",
    "                                segment = signal[start:start+segment_length]\n",
    "                                self.samples.append((segment, label))\n",
    "                    except Exception as e:\n",
    "                        print(f\"Error loading {file_path}: {e}\")\n",
    "\n",
    "    def __len__(self):\n",
    "        return len(self.samples)\n",
    "\n",
    "    def __getitem__(self, idx):\n",
    "        segment, label = self.samples[idx]\n",
    "        I = segment.real\n",
    "        Q = segment.imag\n",
    "        mag = np.abs(segment)\n",
    "        phase = np.angle(segment)\n",
    "        features = np.stack([I, Q, mag, phase], axis=1)  # shape [1024, 4]\n",
    "        return torch.tensor(features, dtype=torch.float32), torch.tensor(label, dtype=torch.long)\n"
   ]
  },
  {
   "cell_type": "code",
   "execution_count": 21,
   "id": "9a7059bf-0cdb-4925-aa56-2b28f72d7719",
   "metadata": {},
   "outputs": [],
   "source": [
    "model = ImprovedLSTMClassifier().to(device)\n",
    "dataset = OFDMIQWithMagPhaseDataset(\"D:/SingalProject/OFDM Modulation Classification Dataset (1)\")\n",
    "train_size = int(0.8 * len(dataset))\n",
    "val_size = len(dataset) - train_size\n",
    "train_dataset, val_dataset = random_split(dataset, [train_size, val_size])\n",
    "train_loader = DataLoader(train_dataset, batch_size=64, shuffle=True)\n",
    "val_loader = DataLoader(val_dataset, batch_size=64)\n",
    "\n",
    "criterion = nn.CrossEntropyLoss() \n",
    "optimizer = torch.optim.Adam(model.parameters(), lr=0.001)\n",
    "scheduler = torch.optim.lr_scheduler.StepLR(optimizer, step_size=3, gamma=0.5)\n"
   ]
  },
  {
   "cell_type": "code",
   "execution_count": 22,
   "id": "d677dbcd-2c2a-4567-81ba-211060526886",
   "metadata": {},
   "outputs": [],
   "source": [
    "def train_model(model, train_loader, val_loader, epochs=10):\n",
    "    for epoch in range(epochs):\n",
    "        model.train()\n",
    "        train_correct = 0\n",
    "\n",
    "        for inputs, labels in tqdm(train_loader, desc=f\"Epoch {epoch+1}/{epochs} - Training\"):\n",
    "            inputs, labels = inputs.to(device), labels.to(device)\n",
    "            optimizer.zero_grad()\n",
    "            outputs = model(inputs)\n",
    "            loss = criterion(outputs, labels)\n",
    "            loss.backward()\n",
    "            optimizer.step()\n",
    "\n",
    "            train_correct += (outputs.argmax(1) == labels).sum().item()\n",
    "\n",
    "        model.eval()\n",
    "        val_correct, val_total = 0, 0\n",
    "        with torch.no_grad():\n",
    "            for inputs, labels in val_loader:\n",
    "                inputs, labels = inputs.to(device), labels.to(device)\n",
    "                outputs = model(inputs)\n",
    "                val_correct += (outputs.argmax(1) == labels).sum().item()\n",
    "                val_total += labels.size(0)\n",
    "\n",
    "        scheduler.step()\n",
    "\n",
    "        print(f\"Epoch {epoch+1}: Train Acc = {train_correct/len(train_loader.dataset):.4f}, \"\n",
    "              f\"Val Acc = {val_correct/val_total:.4f}\")\n"
   ]
  },
  {
   "cell_type": "code",
   "execution_count": 26,
   "id": "1d42649d-a1a1-4a8a-883a-6dad1eeb425d",
   "metadata": {},
   "outputs": [
    {
     "name": "stderr",
     "output_type": "stream",
     "text": [
      "Epoch 1/10 - Training: 100%|█████████████████████████████████████████████████████████████████████| 4916/4916 [10:05<00:00,  8.11it/s]\n"
     ]
    },
    {
     "name": "stdout",
     "output_type": "stream",
     "text": [
      "Epoch 1: Train Acc = 0.1779, Val Acc = 0.1733\n"
     ]
    },
    {
     "name": "stderr",
     "output_type": "stream",
     "text": [
      "Epoch 2/10 - Training: 100%|█████████████████████████████████████████████████████████████████████| 4916/4916 [09:31<00:00,  8.61it/s]\n"
     ]
    },
    {
     "name": "stdout",
     "output_type": "stream",
     "text": [
      "Epoch 2: Train Acc = 0.1747, Val Acc = 0.1671\n"
     ]
    },
    {
     "name": "stderr",
     "output_type": "stream",
     "text": [
      "Epoch 3/10 - Training: 100%|█████████████████████████████████████████████████████████████████████| 4916/4916 [09:33<00:00,  8.58it/s]\n"
     ]
    },
    {
     "name": "stdout",
     "output_type": "stream",
     "text": [
      "Epoch 3: Train Acc = 0.1674, Val Acc = 0.1651\n"
     ]
    },
    {
     "name": "stderr",
     "output_type": "stream",
     "text": [
      "Epoch 4/10 - Training: 100%|█████████████████████████████████████████████████████████████████████| 4916/4916 [10:02<00:00,  8.16it/s]\n"
     ]
    },
    {
     "name": "stdout",
     "output_type": "stream",
     "text": [
      "Epoch 4: Train Acc = 0.2454, Val Acc = 0.4883\n"
     ]
    },
    {
     "name": "stderr",
     "output_type": "stream",
     "text": [
      "Epoch 5/10 - Training: 100%|█████████████████████████████████████████████████████████████████████| 4916/4916 [10:17<00:00,  7.97it/s]\n"
     ]
    },
    {
     "name": "stdout",
     "output_type": "stream",
     "text": [
      "Epoch 5: Train Acc = 0.5782, Val Acc = 0.6561\n"
     ]
    },
    {
     "name": "stderr",
     "output_type": "stream",
     "text": [
      "Epoch 6/10 - Training: 100%|█████████████████████████████████████████████████████████████████████| 4916/4916 [09:49<00:00,  8.34it/s]\n"
     ]
    },
    {
     "name": "stdout",
     "output_type": "stream",
     "text": [
      "Epoch 6: Train Acc = 0.5886, Val Acc = 0.6664\n"
     ]
    },
    {
     "name": "stderr",
     "output_type": "stream",
     "text": [
      "Epoch 7/10 - Training: 100%|█████████████████████████████████████████████████████████████████████| 4916/4916 [09:29<00:00,  8.64it/s]\n"
     ]
    },
    {
     "name": "stdout",
     "output_type": "stream",
     "text": [
      "Epoch 7: Train Acc = 0.6670, Val Acc = 0.6928\n"
     ]
    },
    {
     "name": "stderr",
     "output_type": "stream",
     "text": [
      "Epoch 8/10 - Training: 100%|█████████████████████████████████████████████████████████████████████| 4916/4916 [09:44<00:00,  8.41it/s]\n"
     ]
    },
    {
     "name": "stdout",
     "output_type": "stream",
     "text": [
      "Epoch 8: Train Acc = 0.6996, Val Acc = 0.7180\n"
     ]
    },
    {
     "name": "stderr",
     "output_type": "stream",
     "text": [
      "Epoch 9/10 - Training: 100%|█████████████████████████████████████████████████████████████████████| 4916/4916 [10:02<00:00,  8.16it/s]\n"
     ]
    },
    {
     "name": "stdout",
     "output_type": "stream",
     "text": [
      "Epoch 9: Train Acc = 0.7262, Val Acc = 0.7420\n"
     ]
    },
    {
     "name": "stderr",
     "output_type": "stream",
     "text": [
      "Epoch 10/10 - Training: 100%|████████████████████████████████████████████████████████████████████| 4916/4916 [09:53<00:00,  8.28it/s]\n"
     ]
    },
    {
     "name": "stdout",
     "output_type": "stream",
     "text": [
      "Epoch 10: Train Acc = 0.7478, Val Acc = 0.7535\n"
     ]
    }
   ],
   "source": [
    "train_model(model, train_loader, val_loader, epochs=10)\n"
   ]
  },
  {
   "cell_type": "code",
   "execution_count": 27,
   "id": "fa41fa79-20e5-46e5-a15d-e8170c20baa3",
   "metadata": {},
   "outputs": [
    {
     "data": {
      "image/png": "[encoded data removed]",
      "text/plain": [
       "<Figure size 1000x500 with 1 Axes>"
      ]
     },
     "metadata": {},
     "output_type": "display_data"
    }
   ],
   "source": [
    "import matplotlib.pyplot as plt\n",
    "\n",
    "# Accuracy values from the improved LSTM run\n",
    "epochs = list(range(1, 11))\n",
    "train_acc = [0.1779, 0.1747, 0.1674, 0.2454, 0.5782, 0.5886, 0.6670, 0.6996, 0.7262, 0.7478]\n",
    "val_acc =   [0.1733, 0.1671, 0.1651, 0.4883, 0.6561, 0.6664, 0.6928, 0.7180, 0.7420, 0.7535]\n",
    "\n",
    "# Plotting\n",
    "plt.figure(figsize=(10, 5))\n",
    "plt.plot(epochs, train_acc, marker='o', label='Train Accuracy')\n",
    "plt.plot(epochs, val_acc, marker='s', label='Validation Accuracy')\n",
    "plt.xlabel(\"Epoch\")\n",
    "plt.ylabel(\"Accuracy\")\n",
    "plt.title(\"Training vs Validation Accuracy - Improved LSTM (I/Q + Mag + Phase)\")\n",
    "plt.legend()\n",
    "plt.grid(True)\n",
    "plt.tight_layout()\n",
    "plt.show()\n"
   ]
  },
  {
   "cell_type": "code",
   "execution_count": null,
   "id": "f7a72533-f082-48a5-9cf9-a9b162cdb24b",
   "metadata": {},
   "outputs": [],
   "source": []
  },
  {
   "cell_type": "code",
   "execution_count": null,
   "id": "22f0044f-1617-45d2-92af-7ca75b7f6ccb",
   "metadata": {},
   "outputs": [],
   "source": []
  },
  {
   "cell_type": "code",
   "execution_count": 23,
   "id": "3ca2fcb3-5b0c-45e1-ae8d-198e692b9943",
   "metadata": {},
   "outputs": [],
   "source": [
    "import torch\n",
    "import torch.nn as nn\n",
    "import torch.nn.functional as F\n",
    "\n",
    "class HybridCNNLSTM(nn.Module):\n",
    "    def __init__(self, num_classes=6, lstm_hidden=128, lstm_layers=2):\n",
    "        super(HybridCNNLSTM, self).__init__()\n",
    "\n",
    "        # CNN feature extractor\n",
    "        self.conv1 = nn.Conv2d(1, 16, kernel_size=3, padding=1)\n",
    "        self.bn1 = nn.BatchNorm2d(16)\n",
    "        self.conv2 = nn.Conv2d(16, 32, kernel_size=3, padding=1)\n",
    "        self.bn2 = nn.BatchNorm2d(32)\n",
    "        self.pool = nn.MaxPool2d(2, 2)\n",
    "        self.dropout = nn.Dropout(0.25)\n",
    "\n",
    "        # Placeholder for reshaped dimensions\n",
    "        self.flattened = None\n",
    "\n",
    "        # LSTM for temporal modeling\n",
    "        self.lstm_hidden = lstm_hidden\n",
    "        self.lstm = nn.LSTM(input_size=32, hidden_size=lstm_hidden,\n",
    "                            num_layers=lstm_layers, batch_first=True, bidirectional=True)\n",
    "\n",
    "        # Final classification layer\n",
    "        self.fc = nn.Linear(lstm_hidden * 2, num_classes)\n",
    "\n",
    "    def forward(self, x):\n",
    "        # x: [B, 1, F, T]\n",
    "        x = self.pool(F.relu(self.bn1(self.conv1(x))))  # [B, 16, F/2, T/2]\n",
    "        x = self.pool(F.relu(self.bn2(self.conv2(x))))  # [B, 32, F/4, T/4]\n",
    "        x = self.dropout(x)\n",
    "\n",
    "        # Reshape for LSTM: [B, T', Features]\n",
    "        b, c, f, t = x.shape\n",
    "        x = x.permute(0, 3, 1, 2)         # [B, T, C, F]\n",
    "        x = x.mean(dim=-1)               # [B, T, C] → average over freq dimension\n",
    "# now input_size = C = 32\n",
    "   # [B, T, Features]\n",
    "\n",
    "        # LSTM\n",
    "        x, _ = self.lstm(x)        # [B, T, H*2]\n",
    "        x = x[:, -1, :]            # Take last time step\n",
    "        x = self.fc(x)\n",
    "        return x\n"
   ]
  },
  {
   "cell_type": "code",
   "execution_count": 24,
   "id": "a4f9c2d5-2213-4eb7-a314-cd1bbf34915d",
   "metadata": {},
   "outputs": [],
   "source": [
    "model = HybridCNNLSTM(num_classes=6).to(device)\n",
    "dataset = OFDMSpectrogramDataset(\"D:/SingalProject/OFDM Modulation Classification Dataset (1)\")\n",
    "train_size = int(0.8 * len(dataset))\n",
    "val_size = len(dataset) - train_size\n",
    "train_dataset, val_dataset = random_split(dataset, [train_size, val_size])\n",
    "train_loader = DataLoader(train_dataset, batch_size=64, shuffle=True)\n",
    "val_loader = DataLoader(val_dataset, batch_size=64)\n",
    "\n",
    "criterion = nn.CrossEntropyLoss()\n",
    "optimizer = torch.optim.Adam(model.parameters(), lr=0.001)\n"
   ]
  },
  {
   "cell_type": "code",
   "execution_count": 33,
   "id": "c2b6ce87-bdd0-4932-b180-e01d00a78b4d",
   "metadata": {},
   "outputs": [
    {
     "name": "stderr",
     "output_type": "stream",
     "text": [
      "Epoch 1/10 - Training:   0%|                                                                                | 0/4916 [00:00<?, ?it/s]C:\\Users\\ASUS\\AppData\\Local\\Temp\\ipykernel_25624\\1314719809.py:43: UserWarning: Input data is complex, switching to return_onesided=False\n",
      "  f, t, Zxx = stft(signal, nperseg=self.nperseg)\n",
      "Epoch 1/10 - Training: 100%|█████████████████████████████████████████████████████████████████████| 4916/4916 [02:20<00:00, 35.04it/s]\n"
     ]
    },
    {
     "name": "stdout",
     "output_type": "stream",
     "text": [
      "Epoch 1: Train Acc = 0.6309, Val Acc = 0.7773\n"
     ]
    },
    {
     "name": "stderr",
     "output_type": "stream",
     "text": [
      "Epoch 2/10 - Training: 100%|█████████████████████████████████████████████████████████████████████| 4916/4916 [02:17<00:00, 35.70it/s]\n"
     ]
    },
    {
     "name": "stdout",
     "output_type": "stream",
     "text": [
      "Epoch 2: Train Acc = 0.7739, Val Acc = 0.7221\n"
     ]
    },
    {
     "name": "stderr",
     "output_type": "stream",
     "text": [
      "Epoch 3/10 - Training: 100%|█████████████████████████████████████████████████████████████████████| 4916/4916 [02:17<00:00, 35.69it/s]\n"
     ]
    },
    {
     "name": "stdout",
     "output_type": "stream",
     "text": [
      "Epoch 3: Train Acc = 0.7935, Val Acc = 0.7315\n"
     ]
    },
    {
     "name": "stderr",
     "output_type": "stream",
     "text": [
      "Epoch 4/10 - Training: 100%|█████████████████████████████████████████████████████████████████████| 4916/4916 [02:18<00:00, 35.43it/s]\n"
     ]
    },
    {
     "name": "stdout",
     "output_type": "stream",
     "text": [
      "Epoch 4: Train Acc = 0.8046, Val Acc = 0.8019\n"
     ]
    },
    {
     "name": "stderr",
     "output_type": "stream",
     "text": [
      "Epoch 5/10 - Training: 100%|█████████████████████████████████████████████████████████████████████| 4916/4916 [02:22<00:00, 34.39it/s]\n"
     ]
    },
    {
     "name": "stdout",
     "output_type": "stream",
     "text": [
      "Epoch 5: Train Acc = 0.8121, Val Acc = 0.8307\n"
     ]
    },
    {
     "name": "stderr",
     "output_type": "stream",
     "text": [
      "Epoch 6/10 - Training: 100%|█████████████████████████████████████████████████████████████████████| 4916/4916 [02:19<00:00, 35.20it/s]\n"
     ]
    },
    {
     "name": "stdout",
     "output_type": "stream",
     "text": [
      "Epoch 6: Train Acc = 0.8171, Val Acc = 0.8315\n"
     ]
    },
    {
     "name": "stderr",
     "output_type": "stream",
     "text": [
      "Epoch 7/10 - Training: 100%|█████████████████████████████████████████████████████████████████████| 4916/4916 [02:22<00:00, 34.39it/s]\n"
     ]
    },
    {
     "name": "stdout",
     "output_type": "stream",
     "text": [
      "Epoch 7: Train Acc = 0.8215, Val Acc = 0.8365\n"
     ]
    },
    {
     "name": "stderr",
     "output_type": "stream",
     "text": [
      "Epoch 8/10 - Training: 100%|█████████████████████████████████████████████████████████████████████| 4916/4916 [02:31<00:00, 32.36it/s]\n"
     ]
    },
    {
     "name": "stdout",
     "output_type": "stream",
     "text": [
      "Epoch 8: Train Acc = 0.8259, Val Acc = 0.8348\n"
     ]
    },
    {
     "name": "stderr",
     "output_type": "stream",
     "text": [
      "Epoch 9/10 - Training: 100%|█████████████████████████████████████████████████████████████████████| 4916/4916 [02:40<00:00, 30.56it/s]\n"
     ]
    },
    {
     "name": "stdout",
     "output_type": "stream",
     "text": [
      "Epoch 9: Train Acc = 0.8289, Val Acc = 0.8376\n"
     ]
    },
    {
     "name": "stderr",
     "output_type": "stream",
     "text": [
      "Epoch 10/10 - Training: 100%|████████████████████████████████████████████████████████████████████| 4916/4916 [02:34<00:00, 31.73it/s]\n"
     ]
    },
    {
     "name": "stdout",
     "output_type": "stream",
     "text": [
      "Epoch 10: Train Acc = 0.8314, Val Acc = 0.8429\n"
     ]
    }
   ],
   "source": [
    "train_model(model, train_loader, val_loader, epochs=10)\n"
   ]
  },
  {
   "cell_type": "code",
   "execution_count": 1,
   "id": "f40afe29-d8e3-4c0b-90fd-aa71b970de1f",
   "metadata": {},
   "outputs": [
    {
     "data": {
      "image/png": "[encoded data removed]",
      "text/plain": [
       "<Figure size 1000x500 with 1 Axes>"
      ]
     },
     "metadata": {},
     "output_type": "display_data"
    }
   ],
   "source": [
    "import matplotlib.pyplot as plt\n",
    "\n",
    "# Accuracy values from Hybrid CNN+LSTM training\n",
    "epochs = list(range(1, 11))\n",
    "train_acc = [0.6309, 0.7739, 0.7935, 0.8046, 0.8121, 0.8171, 0.8215, 0.8259, 0.8289, 0.8314]\n",
    "val_acc =   [0.7773, 0.7221, 0.7315, 0.8019, 0.8307, 0.8315, 0.8365, 0.8348, 0.8376, 0.8429]\n",
    "\n",
    "# Plotting\n",
    "plt.figure(figsize=(10, 5))\n",
    "plt.plot(epochs, train_acc, marker='o', label='Train Accuracy')\n",
    "plt.plot(epochs, val_acc, marker='s', label='Validation Accuracy')\n",
    "plt.xlabel(\"Epoch\")\n",
    "plt.ylabel(\"Accuracy\")\n",
    "plt.title(\"Training vs Validation Accuracy - Hybrid CNN + LSTM\")\n",
    "plt.legend()\n",
    "plt.grid(True)\n",
    "plt.tight_layout()\n",
    "plt.show()\n"
   ]
  },
  {
   "cell_type": "code",
   "execution_count": null,
   "id": "3ecae207-c665-4d2a-a8d8-47bcbc1ffcca",
   "metadata": {},
   "outputs": [
    {
     "name": "stderr",
     "output_type": "stream",
     "text": [
      "Epoch 1/30 - Training:   0%|                                                                                | 0/4916 [00:00<?, ?it/s]C:\\Users\\ASUS\\AppData\\Local\\Temp\\ipykernel_17796\\1314719809.py:43: UserWarning: Input data is complex, switching to return_onesided=False\n",
      "  f, t, Zxx = stft(signal, nperseg=self.nperseg)\n",
      "Epoch 1/30 - Training: 100%|█████████████████████████████████████████████████████████████████████| 4916/4916 [01:03<00:00, 77.91it/s]\n",
      "D:\\SingalProject\\signalpytorch\\Lib\\site-packages\\torch\\optim\\lr_scheduler.py:227: UserWarning: Detected call of `lr_scheduler.step()` before `optimizer.step()`. In PyTorch 1.1.0 and later, you should call them in the opposite order: `optimizer.step()` before `lr_scheduler.step()`.  Failure to do this will result in PyTorch skipping the first value of the learning rate schedule. See more details at https://pytorch.org/docs/stable/optim.html#how-to-adjust-learning-rate\n",
      "  warnings.warn(\n"
     ]
    },
    {
     "name": "stdout",
     "output_type": "stream",
     "text": [
      "Epoch 1: Train Acc = 0.6431, Val Acc = 0.7508\n"
     ]
    },
    {
     "name": "stderr",
     "output_type": "stream",
     "text": [
      "Epoch 2/30 - Training: 100%|█████████████████████████████████████████████████████████████████████| 4916/4916 [00:57<00:00, 85.82it/s]\n"
     ]
    },
    {
     "name": "stdout",
     "output_type": "stream",
     "text": [
      "Epoch 2: Train Acc = 0.7800, Val Acc = 0.8081\n"
     ]
    },
    {
     "name": "stderr",
     "output_type": "stream",
     "text": [
      "Epoch 3/30 - Training: 100%|█████████████████████████████████████████████████████████████████████| 4916/4916 [00:57<00:00, 85.12it/s]\n"
     ]
    },
    {
     "name": "stdout",
     "output_type": "stream",
     "text": [
      "Epoch 3: Train Acc = 0.7985, Val Acc = 0.7833\n"
     ]
    },
    {
     "name": "stderr",
     "output_type": "stream",
     "text": [
      "Epoch 4/30 - Training: 100%|█████████████████████████████████████████████████████████████████████| 4916/4916 [00:59<00:00, 82.12it/s]\n"
     ]
    },
    {
     "name": "stdout",
     "output_type": "stream",
     "text": [
      "Epoch 4: Train Acc = 0.8083, Val Acc = 0.8230\n"
     ]
    },
    {
     "name": "stderr",
     "output_type": "stream",
     "text": [
      "Epoch 5/30 - Training: 100%|█████████████████████████████████████████████████████████████████████| 4916/4916 [00:58<00:00, 83.82it/s]\n"
     ]
    },
    {
     "name": "stdout",
     "output_type": "stream",
     "text": [
      "Epoch 5: Train Acc = 0.8156, Val Acc = 0.8260\n"
     ]
    },
    {
     "name": "stderr",
     "output_type": "stream",
     "text": [
      "Epoch 6/30 - Training: 100%|█████████████████████████████████████████████████████████████████████| 4916/4916 [00:58<00:00, 83.66it/s]\n"
     ]
    },
    {
     "name": "stdout",
     "output_type": "stream",
     "text": [
      "Epoch 6: Train Acc = 0.8206, Val Acc = 0.8321\n"
     ]
    },
    {
     "name": "stderr",
     "output_type": "stream",
     "text": [
      "Epoch 7/30 - Training: 100%|█████████████████████████████████████████████████████████████████████| 4916/4916 [00:57<00:00, 85.60it/s]\n"
     ]
    },
    {
     "name": "stdout",
     "output_type": "stream",
     "text": [
      "Epoch 7: Train Acc = 0.8253, Val Acc = 0.8257\n"
     ]
    },
    {
     "name": "stderr",
     "output_type": "stream",
     "text": [
      "Epoch 8/30 - Training: 100%|█████████████████████████████████████████████████████████████████████| 4916/4916 [01:00<00:00, 81.72it/s]\n"
     ]
    },
    {
     "name": "stdout",
     "output_type": "stream",
     "text": [
      "Epoch 8: Train Acc = 0.8288, Val Acc = 0.8234\n"
     ]
    },
    {
     "name": "stderr",
     "output_type": "stream",
     "text": [
      "Epoch 9/30 - Training: 100%|█████████████████████████████████████████████████████████████████████| 4916/4916 [00:59<00:00, 83.22it/s]\n"
     ]
    },
    {
     "name": "stdout",
     "output_type": "stream",
     "text": [
      "Epoch 9: Train Acc = 0.8331, Val Acc = 0.8460\n"
     ]
    },
    {
     "name": "stderr",
     "output_type": "stream",
     "text": [
      "Epoch 10/30 - Training: 100%|████████████████████████████████████████████████████████████████████| 4916/4916 [01:01<00:00, 80.34it/s]\n"
     ]
    },
    {
     "name": "stdout",
     "output_type": "stream",
     "text": [
      "Epoch 10: Train Acc = 0.8358, Val Acc = 0.8418\n"
     ]
    },
    {
     "name": "stderr",
     "output_type": "stream",
     "text": [
      "Epoch 11/30 - Training: 100%|████████████████████████████████████████████████████████████████████| 4916/4916 [01:00<00:00, 81.20it/s]\n"
     ]
    },
    {
     "name": "stdout",
     "output_type": "stream",
     "text": [
      "Epoch 11: Train Acc = 0.8382, Val Acc = 0.8132\n"
     ]
    },
    {
     "name": "stderr",
     "output_type": "stream",
     "text": [
      "Epoch 12/30 - Training: 100%|████████████████████████████████████████████████████████████████████| 4916/4916 [00:58<00:00, 83.54it/s]\n"
     ]
    },
    {
     "name": "stdout",
     "output_type": "stream",
     "text": [
      "Epoch 12: Train Acc = 0.8403, Val Acc = 0.8436\n"
     ]
    },
    {
     "name": "stderr",
     "output_type": "stream",
     "text": [
      "Epoch 13/30 - Training: 100%|████████████████████████████████████████████████████████████████████| 4916/4916 [01:00<00:00, 81.06it/s]\n"
     ]
    },
    {
     "name": "stdout",
     "output_type": "stream",
     "text": [
      "Epoch 13: Train Acc = 0.8417, Val Acc = 0.8441\n"
     ]
    },
    {
     "name": "stderr",
     "output_type": "stream",
     "text": [
      "Epoch 14/30 - Training: 100%|████████████████████████████████████████████████████████████████████| 4916/4916 [01:01<00:00, 80.41it/s]\n"
     ]
    },
    {
     "name": "stdout",
     "output_type": "stream",
     "text": [
      "Epoch 14: Train Acc = 0.8439, Val Acc = 0.8299\n"
     ]
    },
    {
     "name": "stderr",
     "output_type": "stream",
     "text": [
      "Epoch 15/30 - Training: 100%|████████████████████████████████████████████████████████████████████| 4916/4916 [01:01<00:00, 79.67it/s]\n"
     ]
    },
    {
     "name": "stdout",
     "output_type": "stream",
     "text": [
      "Epoch 15: Train Acc = 0.8445, Val Acc = 0.8540\n"
     ]
    },
    {
     "name": "stderr",
     "output_type": "stream",
     "text": [
      "Epoch 16/30 - Training: 100%|████████████████████████████████████████████████████████████████████| 4916/4916 [00:58<00:00, 83.51it/s]\n"
     ]
    },
    {
     "name": "stdout",
     "output_type": "stream",
     "text": [
      "Epoch 16: Train Acc = 0.8464, Val Acc = 0.8441\n"
     ]
    },
    {
     "name": "stderr",
     "output_type": "stream",
     "text": [
      "Epoch 17/30 - Training: 100%|████████████████████████████████████████████████████████████████████| 4916/4916 [00:59<00:00, 83.13it/s]\n"
     ]
    },
    {
     "name": "stdout",
     "output_type": "stream",
     "text": [
      "Epoch 17: Train Acc = 0.8477, Val Acc = 0.8517\n"
     ]
    },
    {
     "name": "stderr",
     "output_type": "stream",
     "text": [
      "Epoch 18/30 - Training: 100%|████████████████████████████████████████████████████████████████████| 4916/4916 [01:00<00:00, 81.64it/s]\n"
     ]
    },
    {
     "name": "stdout",
     "output_type": "stream",
     "text": [
      "Epoch 18: Train Acc = 0.8486, Val Acc = 0.8500\n"
     ]
    },
    {
     "name": "stderr",
     "output_type": "stream",
     "text": [
      "Epoch 19/30 - Training: 100%|████████████████████████████████████████████████████████████████████| 4916/4916 [00:59<00:00, 82.07it/s]\n"
     ]
    },
    {
     "name": "stdout",
     "output_type": "stream",
     "text": [
      "Epoch 19: Train Acc = 0.8499, Val Acc = 0.8574\n"
     ]
    },
    {
     "name": "stderr",
     "output_type": "stream",
     "text": [
      "Epoch 20/30 - Training: 100%|████████████████████████████████████████████████████████████████████| 4916/4916 [00:59<00:00, 82.36it/s]\n"
     ]
    },
    {
     "name": "stdout",
     "output_type": "stream",
     "text": [
      "Epoch 20: Train Acc = 0.8510, Val Acc = 0.8535\n"
     ]
    },
    {
     "name": "stderr",
     "output_type": "stream",
     "text": [
      "Epoch 21/30 - Training: 100%|████████████████████████████████████████████████████████████████████| 4916/4916 [00:59<00:00, 81.99it/s]\n"
     ]
    },
    {
     "name": "stdout",
     "output_type": "stream",
     "text": [
      "Epoch 21: Train Acc = 0.8522, Val Acc = 0.8559\n"
     ]
    },
    {
     "name": "stderr",
     "output_type": "stream",
     "text": [
      "Epoch 22/30 - Training: 100%|████████████████████████████████████████████████████████████████████| 4916/4916 [00:59<00:00, 83.08it/s]\n"
     ]
    },
    {
     "name": "stdout",
     "output_type": "stream",
     "text": [
      "Epoch 22: Train Acc = 0.8530, Val Acc = 0.8546\n"
     ]
    },
    {
     "name": "stderr",
     "output_type": "stream",
     "text": [
      "Epoch 23/30 - Training: 100%|████████████████████████████████████████████████████████████████████| 4916/4916 [01:00<00:00, 81.36it/s]\n"
     ]
    },
    {
     "name": "stdout",
     "output_type": "stream",
     "text": [
      "Epoch 23: Train Acc = 0.8534, Val Acc = 0.8559\n"
     ]
    },
    {
     "name": "stderr",
     "output_type": "stream",
     "text": [
      "Epoch 24/30 - Training: 100%|████████████████████████████████████████████████████████████████████| 4916/4916 [00:58<00:00, 84.45it/s]\n"
     ]
    },
    {
     "name": "stdout",
     "output_type": "stream",
     "text": [
      "Epoch 24: Train Acc = 0.8549, Val Acc = 0.8574\n"
     ]
    },
    {
     "name": "stderr",
     "output_type": "stream",
     "text": [
      "Epoch 25/30 - Training: 100%|████████████████████████████████████████████████████████████████████| 4916/4916 [01:00<00:00, 81.57it/s]\n"
     ]
    },
    {
     "name": "stdout",
     "output_type": "stream",
     "text": [
      "Epoch 25: Train Acc = 0.8551, Val Acc = 0.8529\n"
     ]
    },
    {
     "name": "stderr",
     "output_type": "stream",
     "text": [
      "Epoch 26/30 - Training: 100%|████████████████████████████████████████████████████████████████████| 4916/4916 [00:59<00:00, 83.13it/s]\n"
     ]
    },
    {
     "name": "stdout",
     "output_type": "stream",
     "text": [
      "Epoch 26: Train Acc = 0.8562, Val Acc = 0.8574\n"
     ]
    },
    {
     "name": "stderr",
     "output_type": "stream",
     "text": [
      "Epoch 27/30 - Training: 100%|████████████████████████████████████████████████████████████████████| 4916/4916 [00:58<00:00, 83.84it/s]\n"
     ]
    },
    {
     "name": "stdout",
     "output_type": "stream",
     "text": [
      "Epoch 27: Train Acc = 0.8577, Val Acc = 0.8584\n"
     ]
    },
    {
     "name": "stderr",
     "output_type": "stream",
     "text": [
      "Epoch 28/30 - Training: 100%|████████████████████████████████████████████████████████████████████| 4916/4916 [00:59<00:00, 82.43it/s]\n"
     ]
    }
   ],
   "source": [
    "train_model(model, train_loader, val_loader, epochs=30)"
   ]
  },
  {
   "cell_type": "code",
   "execution_count": null,
   "id": "9a56b97e-a95c-4a10-a992-9cfc6d7057ce",
   "metadata": {},
   "outputs": [],
   "source": []
  },
  {
   "cell_type": "code",
   "execution_count": null,
   "id": "8f1ebe33-48c3-4c72-927a-843a0c7d068c",
   "metadata": {},
   "outputs": [],
   "source": []
  },
  {
   "cell_type": "code",
   "execution_count": null,
   "id": "bc5c8a56-a599-4acf-ab1c-1c03c274178e",
   "metadata": {},
   "outputs": [],
   "source": []
  },
  {
   "cell_type": "code",
   "execution_count": null,
   "id": "110d4391-b5f0-4901-93d8-2e9cb7d62952",
   "metadata": {},
   "outputs": [],
   "source": []
  }
 ],
 "metadata": {
  "kernelspec": {
   "display_name": "Python (signalpytorch)",
   "language": "python",
   "name": "signalpytorch"
  },
  "language_info": {
   "codemirror_mode": {
    "name": "ipython",
    "version": 3
   },
   "file_extension": ".py",
   "mimetype": "text/x-python",
   "name": "python",
   "nbconvert_exporter": "python",
   "pygments_lexer": "ipython3",
   "version": "3.11.0"
  }
 },
 "nbformat": 4,
 "nbformat_minor": 5
}
